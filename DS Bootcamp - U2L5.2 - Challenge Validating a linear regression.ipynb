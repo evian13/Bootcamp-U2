{
 "cells": [
  {
   "cell_type": "markdown",
   "metadata": {},
   "source": [
    "# U2L5.2\n",
    "\n",
    "\n",
    "## Validating regression models for prediction\n",
    "Statistical tests are useful for making sure a model is a good fit to the test data, and that all the features are useful to the model. However, to make sure a model has good predictive validity for new data, it is necessary to assess the performance of the model on new datasets.\n",
    "\n",
    "The procedure is the same as what you learned in the Naive Bayes lesson – the holdout method and cross-validation method are both available. You've already had experience writing code to run these kinds of validation models for Naive Bayes: now you can try it again with linear regression. In this case, your goal is to achieve a model with a consistent R2 and only statistically significant parameters across multiple samples."
   ]
  },
  {
   "cell_type": "code",
   "execution_count": 305,
   "metadata": {},
   "outputs": [],
   "source": [
    "import pandas as pd\n",
    "from matplotlib import pyplot as plt\n",
    "import numpy as np\n",
    "from sklearn import linear_model\n",
    "\n",
    "# Display preferences.\n",
    "%matplotlib inline\n",
    "pd.options.display.float_format = '{:.3f}'.format\n",
    "\n",
    "# Suppress annoying harmless error.\n",
    "\n",
    "import warnings\n",
    "warnings.filterwarnings(action=\"ignore\", module=\"scipy\", message=\"^internal gelsd\")"
   ]
  },
  {
   "cell_type": "code",
   "execution_count": 306,
   "metadata": {},
   "outputs": [],
   "source": [
    "from matplotlib.mlab import PCA as mlabPCA\n",
    "from sklearn.preprocessing import StandardScaler\n",
    "from sklearn.decomposition import PCA "
   ]
  },
  {
   "cell_type": "code",
   "execution_count": 307,
   "metadata": {},
   "outputs": [
    {
     "data": {
      "text/html": [
       "<div>\n",
       "<style scoped>\n",
       "    .dataframe tbody tr th:only-of-type {\n",
       "        vertical-align: middle;\n",
       "    }\n",
       "\n",
       "    .dataframe tbody tr th {\n",
       "        vertical-align: top;\n",
       "    }\n",
       "\n",
       "    .dataframe thead th {\n",
       "        text-align: right;\n",
       "    }\n",
       "</style>\n",
       "<table border=\"1\" class=\"dataframe\">\n",
       "  <thead>\n",
       "    <tr style=\"text-align: right;\">\n",
       "      <th></th>\n",
       "      <th>City</th>\n",
       "      <th>Population</th>\n",
       "      <th>Violent\n",
       "crime</th>\n",
       "      <th>Murder and\n",
       "nonnegligent\n",
       "manslaughter</th>\n",
       "      <th>Rape\n",
       "(revised\n",
       "definition)1</th>\n",
       "      <th>Rape\n",
       "(legacy\n",
       "definition)2</th>\n",
       "      <th>Robbery</th>\n",
       "      <th>Aggravated\n",
       "assault</th>\n",
       "      <th>Property\n",
       "crime</th>\n",
       "      <th>Burglary</th>\n",
       "      <th>Larceny-\n",
       "theft</th>\n",
       "      <th>Motor\n",
       "vehicle\n",
       "theft</th>\n",
       "      <th>Arson3</th>\n",
       "    </tr>\n",
       "  </thead>\n",
       "  <tbody>\n",
       "    <tr>\n",
       "      <th>343</th>\n",
       "      <td>Woodbury Town</td>\n",
       "      <td>10,685</td>\n",
       "      <td>3</td>\n",
       "      <td>0</td>\n",
       "      <td>nan</td>\n",
       "      <td>0</td>\n",
       "      <td>2</td>\n",
       "      <td>1</td>\n",
       "      <td>541</td>\n",
       "      <td>9</td>\n",
       "      <td>529</td>\n",
       "      <td>3</td>\n",
       "      <td>nan</td>\n",
       "    </tr>\n",
       "    <tr>\n",
       "      <th>344</th>\n",
       "      <td>Woodridge Village</td>\n",
       "      <td>829</td>\n",
       "      <td>7</td>\n",
       "      <td>0</td>\n",
       "      <td>nan</td>\n",
       "      <td>0</td>\n",
       "      <td>0</td>\n",
       "      <td>7</td>\n",
       "      <td>17</td>\n",
       "      <td>8</td>\n",
       "      <td>9</td>\n",
       "      <td>0</td>\n",
       "      <td>0.000</td>\n",
       "    </tr>\n",
       "    <tr>\n",
       "      <th>345</th>\n",
       "      <td>Woodstock Town</td>\n",
       "      <td>5,931</td>\n",
       "      <td>2</td>\n",
       "      <td>0</td>\n",
       "      <td>nan</td>\n",
       "      <td>0</td>\n",
       "      <td>0</td>\n",
       "      <td>2</td>\n",
       "      <td>58</td>\n",
       "      <td>13</td>\n",
       "      <td>45</td>\n",
       "      <td>0</td>\n",
       "      <td>nan</td>\n",
       "    </tr>\n",
       "    <tr>\n",
       "      <th>346</th>\n",
       "      <td>Yonkers</td>\n",
       "      <td>199,134</td>\n",
       "      <td>1,036</td>\n",
       "      <td>6</td>\n",
       "      <td>nan</td>\n",
       "      <td>25</td>\n",
       "      <td>390</td>\n",
       "      <td>615</td>\n",
       "      <td>2,368</td>\n",
       "      <td>470</td>\n",
       "      <td>1,662</td>\n",
       "      <td>236</td>\n",
       "      <td>10.000</td>\n",
       "    </tr>\n",
       "    <tr>\n",
       "      <th>347</th>\n",
       "      <td>Yorktown Town</td>\n",
       "      <td>36,643</td>\n",
       "      <td>15</td>\n",
       "      <td>0</td>\n",
       "      <td>nan</td>\n",
       "      <td>0</td>\n",
       "      <td>2</td>\n",
       "      <td>13</td>\n",
       "      <td>334</td>\n",
       "      <td>45</td>\n",
       "      <td>287</td>\n",
       "      <td>2</td>\n",
       "      <td>nan</td>\n",
       "    </tr>\n",
       "  </tbody>\n",
       "</table>\n",
       "</div>"
      ],
      "text/plain": [
       "                  City Population Violent\\ncrime  \\\n",
       "343      Woodbury Town     10,685              3   \n",
       "344  Woodridge Village        829              7   \n",
       "345     Woodstock Town      5,931              2   \n",
       "346            Yonkers    199,134          1,036   \n",
       "347      Yorktown Town     36,643             15   \n",
       "\n",
       "     Murder and\\nnonnegligent\\nmanslaughter  Rape\\n(revised\\ndefinition)1  \\\n",
       "343                                       0                           nan   \n",
       "344                                       0                           nan   \n",
       "345                                       0                           nan   \n",
       "346                                       6                           nan   \n",
       "347                                       0                           nan   \n",
       "\n",
       "    Rape\\n(legacy\\ndefinition)2 Robbery Aggravated\\nassault Property\\ncrime  \\\n",
       "343                           0       2                   1             541   \n",
       "344                           0       0                   7              17   \n",
       "345                           0       0                   2              58   \n",
       "346                          25     390                 615           2,368   \n",
       "347                           0       2                  13             334   \n",
       "\n",
       "    Burglary Larceny-\\ntheft Motor\\nvehicle\\ntheft  Arson3  \n",
       "343        9             529                     3     nan  \n",
       "344        8               9                     0   0.000  \n",
       "345       13              45                     0     nan  \n",
       "346      470           1,662                   236  10.000  \n",
       "347       45             287                     2     nan  "
      ]
     },
     "execution_count": 307,
     "metadata": {},
     "output_type": "execute_result"
    }
   ],
   "source": [
    "link = 'https://raw.githubusercontent.com/Thinkful-Ed/data-201-resources/master/New_York_offenses/NEW_YORK-Offenses_Known_to_Law_Enforcement_by_City_2013%20-%2013tbl8ny.csv'\n",
    "\n",
    "indices_to_skip = np.array([0,1,2,353,354,355])\n",
    "\n",
    "df = pd.read_csv(link,skiprows=indices_to_skip , header=1)\n",
    "\n",
    "df.tail()\n"
   ]
  },
  {
   "cell_type": "code",
   "execution_count": 308,
   "metadata": {},
   "outputs": [],
   "source": [
    "indices_to_skip = np.array([0,1,2,374,375,376,377,378,379,380])\n",
    "\n",
    "df2014 = pd.read_excel('Table_8_Offenses_Known_to_Law_Enforcement_by_New_York_by_City_2014.xls'\n",
    "                       ,skiprows=indices_to_skip , header=1)\n"
   ]
  },
  {
   "cell_type": "code",
   "execution_count": 237,
   "metadata": {},
   "outputs": [
    {
     "data": {
      "text/html": [
       "<div>\n",
       "<style scoped>\n",
       "    .dataframe tbody tr th:only-of-type {\n",
       "        vertical-align: middle;\n",
       "    }\n",
       "\n",
       "    .dataframe tbody tr th {\n",
       "        vertical-align: top;\n",
       "    }\n",
       "\n",
       "    .dataframe thead th {\n",
       "        text-align: right;\n",
       "    }\n",
       "</style>\n",
       "<table border=\"1\" class=\"dataframe\">\n",
       "  <thead>\n",
       "    <tr style=\"text-align: right;\">\n",
       "      <th></th>\n",
       "      <th>City</th>\n",
       "      <th>Population</th>\n",
       "      <th>Violent\n",
       "crime</th>\n",
       "      <th>Murder and\n",
       "nonnegligent\n",
       "manslaughter</th>\n",
       "      <th>Rape\n",
       "(revised\n",
       "definition)1</th>\n",
       "      <th>Rape\n",
       "(legacy\n",
       "definition)2</th>\n",
       "      <th>Robbery</th>\n",
       "      <th>Aggravated\n",
       "assault</th>\n",
       "      <th>Property\n",
       "crime</th>\n",
       "      <th>Burglary</th>\n",
       "      <th>Larceny-\n",
       "theft</th>\n",
       "      <th>Motor\n",
       "vehicle\n",
       "theft</th>\n",
       "      <th>Arson3</th>\n",
       "    </tr>\n",
       "  </thead>\n",
       "  <tbody>\n",
       "    <tr>\n",
       "      <th>227</th>\n",
       "      <td>New York4</td>\n",
       "      <td>8473938</td>\n",
       "      <td>50564</td>\n",
       "      <td>333</td>\n",
       "      <td>2190.000</td>\n",
       "      <td>nan</td>\n",
       "      <td>16581</td>\n",
       "      <td>31460</td>\n",
       "      <td>135747.000</td>\n",
       "      <td>15916</td>\n",
       "      <td>112107.000</td>\n",
       "      <td>7724</td>\n",
       "      <td>nan</td>\n",
       "    </tr>\n",
       "    <tr>\n",
       "      <th>38</th>\n",
       "      <td>Buffalo4</td>\n",
       "      <td>258419</td>\n",
       "      <td>3174</td>\n",
       "      <td>60</td>\n",
       "      <td>174.000</td>\n",
       "      <td>nan</td>\n",
       "      <td>1277</td>\n",
       "      <td>1663</td>\n",
       "      <td>12449.000</td>\n",
       "      <td>3119</td>\n",
       "      <td>8362.000</td>\n",
       "      <td>968</td>\n",
       "      <td>nan</td>\n",
       "    </tr>\n",
       "    <tr>\n",
       "      <th>283</th>\n",
       "      <td>Rochester4</td>\n",
       "      <td>210347</td>\n",
       "      <td>1765</td>\n",
       "      <td>27</td>\n",
       "      <td>190.000</td>\n",
       "      <td>nan</td>\n",
       "      <td>698</td>\n",
       "      <td>850</td>\n",
       "      <td>8856.000</td>\n",
       "      <td>2125</td>\n",
       "      <td>6058.000</td>\n",
       "      <td>673</td>\n",
       "      <td>135.000</td>\n",
       "    </tr>\n",
       "    <tr>\n",
       "      <th>366</th>\n",
       "      <td>Yonkers4</td>\n",
       "      <td>200624</td>\n",
       "      <td>974</td>\n",
       "      <td>3</td>\n",
       "      <td>33.000</td>\n",
       "      <td>nan</td>\n",
       "      <td>358</td>\n",
       "      <td>580</td>\n",
       "      <td>2009.000</td>\n",
       "      <td>414</td>\n",
       "      <td>1395.000</td>\n",
       "      <td>200</td>\n",
       "      <td>15.000</td>\n",
       "    </tr>\n",
       "    <tr>\n",
       "      <th>326</th>\n",
       "      <td>Syracuse4</td>\n",
       "      <td>144534</td>\n",
       "      <td>1164</td>\n",
       "      <td>20</td>\n",
       "      <td>70.000</td>\n",
       "      <td>nan</td>\n",
       "      <td>406</td>\n",
       "      <td>668</td>\n",
       "      <td>5755.000</td>\n",
       "      <td>1404</td>\n",
       "      <td>3986.000</td>\n",
       "      <td>365</td>\n",
       "      <td>57.000</td>\n",
       "    </tr>\n",
       "  </tbody>\n",
       "</table>\n",
       "</div>"
      ],
      "text/plain": [
       "           City  Population  Violent\\ncrime  \\\n",
       "227   New York4     8473938           50564   \n",
       "38     Buffalo4      258419            3174   \n",
       "283  Rochester4      210347            1765   \n",
       "366    Yonkers4      200624             974   \n",
       "326   Syracuse4      144534            1164   \n",
       "\n",
       "     Murder and\\nnonnegligent\\nmanslaughter  Rape\\n(revised\\ndefinition)1  \\\n",
       "227                                     333                      2190.000   \n",
       "38                                       60                       174.000   \n",
       "283                                      27                       190.000   \n",
       "366                                       3                        33.000   \n",
       "326                                      20                        70.000   \n",
       "\n",
       "     Rape\\n(legacy\\ndefinition)2  Robbery  Aggravated\\nassault  \\\n",
       "227                          nan    16581                31460   \n",
       "38                           nan     1277                 1663   \n",
       "283                          nan      698                  850   \n",
       "366                          nan      358                  580   \n",
       "326                          nan      406                  668   \n",
       "\n",
       "     Property\\ncrime  Burglary  Larceny-\\ntheft  Motor\\nvehicle\\ntheft  Arson3  \n",
       "227       135747.000     15916       112107.000                   7724     nan  \n",
       "38         12449.000      3119         8362.000                    968     nan  \n",
       "283         8856.000      2125         6058.000                    673 135.000  \n",
       "366         2009.000       414         1395.000                    200  15.000  \n",
       "326         5755.000      1404         3986.000                    365  57.000  "
      ]
     },
     "execution_count": 237,
     "metadata": {},
     "output_type": "execute_result"
    }
   ],
   "source": [
    "df2014.sort_values(by='Population',ascending=False).head()"
   ]
  },
  {
   "cell_type": "code",
   "execution_count": 238,
   "metadata": {},
   "outputs": [
    {
     "data": {
      "text/plain": [
       "(348, 13)"
      ]
     },
     "execution_count": 238,
     "metadata": {},
     "output_type": "execute_result"
    }
   ],
   "source": [
    "df.shape"
   ]
  },
  {
   "cell_type": "code",
   "execution_count": 239,
   "metadata": {},
   "outputs": [
    {
     "data": {
      "text/plain": [
       "City                                       object\n",
       "Population                                 object\n",
       "Violent\\ncrime                             object\n",
       "Murder and\\nnonnegligent\\nmanslaughter      int64\n",
       "Rape\\n(revised\\ndefinition)1              float64\n",
       "Rape\\n(legacy\\ndefinition)2                object\n",
       "Robbery                                    object\n",
       "Aggravated\\nassault                        object\n",
       "Property\\ncrime                            object\n",
       "Burglary                                   object\n",
       "Larceny-\\ntheft                            object\n",
       "Motor\\nvehicle\\ntheft                      object\n",
       "Arson3                                    float64\n",
       "dtype: object"
      ]
     },
     "execution_count": 239,
     "metadata": {},
     "output_type": "execute_result"
    }
   ],
   "source": [
    "df.dtypes"
   ]
  },
  {
   "cell_type": "code",
   "execution_count": 240,
   "metadata": {},
   "outputs": [
    {
     "data": {
      "text/plain": [
       "'Murder'"
      ]
     },
     "execution_count": 240,
     "metadata": {},
     "output_type": "execute_result"
    }
   ],
   "source": [
    "# Not working:\n",
    "new_cols = ['Murder','Rubberry']\n",
    "def insert_cols(df):\n",
    "    for i in range(len(new_cols)):\n",
    "        #df[new_cols[i]]==np.nan\n",
    "        return new_cols[i]\n",
    "    \n",
    "insert_cols(df)"
   ]
  },
  {
   "cell_type": "markdown",
   "metadata": {},
   "source": [
    "### Replace ',' before converting to numeric:"
   ]
  },
  {
   "cell_type": "code",
   "execution_count": 309,
   "metadata": {},
   "outputs": [],
   "source": [
    "cols = df.columns.drop(['City','Murder and\\nnonnegligent\\nmanslaughter','Rape\\n(revised\\ndefinition)1','Arson3'])\n",
    "\n",
    "# Replace ',' before converting to numeric:\n",
    "df[cols]=df[cols].replace(',*','',regex=True)\n",
    "\n",
    "# Convert to numeric\n",
    "df[cols] = df[cols].apply(pd.to_numeric, errors='coerce')"
   ]
  },
  {
   "cell_type": "code",
   "execution_count": 310,
   "metadata": {},
   "outputs": [],
   "source": [
    "cols = df2014.columns.drop(['City','Murder and\\nnonnegligent\\nmanslaughter','Rape\\n(revised\\ndefinition)1','Arson3'])\n",
    "\n",
    "# Replace ',' before converting to numeric:\n",
    "df2014[cols]=df2014[cols].replace(',*','',regex=True)\n",
    "\n",
    "# Convert to numeric\n",
    "df2014[cols] = df2014[cols].apply(pd.to_numeric, errors='coerce')"
   ]
  },
  {
   "cell_type": "code",
   "execution_count": 243,
   "metadata": {},
   "outputs": [
    {
     "data": {
      "text/html": [
       "<div>\n",
       "<style scoped>\n",
       "    .dataframe tbody tr th:only-of-type {\n",
       "        vertical-align: middle;\n",
       "    }\n",
       "\n",
       "    .dataframe tbody tr th {\n",
       "        vertical-align: top;\n",
       "    }\n",
       "\n",
       "    .dataframe thead th {\n",
       "        text-align: right;\n",
       "    }\n",
       "</style>\n",
       "<table border=\"1\" class=\"dataframe\">\n",
       "  <thead>\n",
       "    <tr style=\"text-align: right;\">\n",
       "      <th></th>\n",
       "      <th>Population</th>\n",
       "      <th>Violent\n",
       "crime</th>\n",
       "      <th>Murder and\n",
       "nonnegligent\n",
       "manslaughter</th>\n",
       "      <th>Rape\n",
       "(revised\n",
       "definition)1</th>\n",
       "      <th>Rape\n",
       "(legacy\n",
       "definition)2</th>\n",
       "      <th>Robbery</th>\n",
       "      <th>Aggravated\n",
       "assault</th>\n",
       "      <th>Property\n",
       "crime</th>\n",
       "      <th>Burglary</th>\n",
       "      <th>Larceny-\n",
       "theft</th>\n",
       "      <th>Motor\n",
       "vehicle\n",
       "theft</th>\n",
       "      <th>Arson3</th>\n",
       "    </tr>\n",
       "  </thead>\n",
       "  <tbody>\n",
       "    <tr>\n",
       "      <th>count</th>\n",
       "      <td>348.000</td>\n",
       "      <td>348.000</td>\n",
       "      <td>348.000</td>\n",
       "      <td>0.000</td>\n",
       "      <td>348.000</td>\n",
       "      <td>348.000</td>\n",
       "      <td>348.000</td>\n",
       "      <td>348.000</td>\n",
       "      <td>348.000</td>\n",
       "      <td>348.000</td>\n",
       "      <td>348.000</td>\n",
       "      <td>187.000</td>\n",
       "    </tr>\n",
       "    <tr>\n",
       "      <th>mean</th>\n",
       "      <td>40037.632</td>\n",
       "      <td>201.595</td>\n",
       "      <td>1.566</td>\n",
       "      <td>nan</td>\n",
       "      <td>5.865</td>\n",
       "      <td>72.902</td>\n",
       "      <td>121.261</td>\n",
       "      <td>792.606</td>\n",
       "      <td>119.684</td>\n",
       "      <td>637.017</td>\n",
       "      <td>35.905</td>\n",
       "      <td>1.872</td>\n",
       "    </tr>\n",
       "    <tr>\n",
       "      <th>std</th>\n",
       "      <td>450037.368</td>\n",
       "      <td>2815.269</td>\n",
       "      <td>18.304</td>\n",
       "      <td>nan</td>\n",
       "      <td>60.425</td>\n",
       "      <td>1031.033</td>\n",
       "      <td>1706.132</td>\n",
       "      <td>7659.725</td>\n",
       "      <td>924.949</td>\n",
       "      <td>6346.054</td>\n",
       "      <td>403.424</td>\n",
       "      <td>10.693</td>\n",
       "    </tr>\n",
       "    <tr>\n",
       "      <th>min</th>\n",
       "      <td>526.000</td>\n",
       "      <td>0.000</td>\n",
       "      <td>0.000</td>\n",
       "      <td>nan</td>\n",
       "      <td>0.000</td>\n",
       "      <td>0.000</td>\n",
       "      <td>0.000</td>\n",
       "      <td>0.000</td>\n",
       "      <td>0.000</td>\n",
       "      <td>0.000</td>\n",
       "      <td>0.000</td>\n",
       "      <td>0.000</td>\n",
       "    </tr>\n",
       "    <tr>\n",
       "      <th>25%</th>\n",
       "      <td>3003.000</td>\n",
       "      <td>2.000</td>\n",
       "      <td>0.000</td>\n",
       "      <td>nan</td>\n",
       "      <td>0.000</td>\n",
       "      <td>0.000</td>\n",
       "      <td>1.000</td>\n",
       "      <td>40.500</td>\n",
       "      <td>6.000</td>\n",
       "      <td>31.000</td>\n",
       "      <td>0.000</td>\n",
       "      <td>0.000</td>\n",
       "    </tr>\n",
       "    <tr>\n",
       "      <th>50%</th>\n",
       "      <td>7233.500</td>\n",
       "      <td>6.000</td>\n",
       "      <td>0.000</td>\n",
       "      <td>nan</td>\n",
       "      <td>0.000</td>\n",
       "      <td>1.000</td>\n",
       "      <td>4.000</td>\n",
       "      <td>112.500</td>\n",
       "      <td>17.500</td>\n",
       "      <td>94.000</td>\n",
       "      <td>2.000</td>\n",
       "      <td>0.000</td>\n",
       "    </tr>\n",
       "    <tr>\n",
       "      <th>75%</th>\n",
       "      <td>18427.500</td>\n",
       "      <td>22.000</td>\n",
       "      <td>0.000</td>\n",
       "      <td>nan</td>\n",
       "      <td>2.000</td>\n",
       "      <td>5.000</td>\n",
       "      <td>14.000</td>\n",
       "      <td>341.000</td>\n",
       "      <td>51.250</td>\n",
       "      <td>287.250</td>\n",
       "      <td>7.000</td>\n",
       "      <td>1.000</td>\n",
       "    </tr>\n",
       "    <tr>\n",
       "      <th>max</th>\n",
       "      <td>8396126.000</td>\n",
       "      <td>52384.000</td>\n",
       "      <td>335.000</td>\n",
       "      <td>nan</td>\n",
       "      <td>1112.000</td>\n",
       "      <td>19170.000</td>\n",
       "      <td>31767.000</td>\n",
       "      <td>141971.000</td>\n",
       "      <td>16606.000</td>\n",
       "      <td>117931.000</td>\n",
       "      <td>7434.000</td>\n",
       "      <td>132.000</td>\n",
       "    </tr>\n",
       "  </tbody>\n",
       "</table>\n",
       "</div>"
      ],
      "text/plain": [
       "       Population  Violent\\ncrime  Murder and\\nnonnegligent\\nmanslaughter  \\\n",
       "count     348.000         348.000                                 348.000   \n",
       "mean    40037.632         201.595                                   1.566   \n",
       "std    450037.368        2815.269                                  18.304   \n",
       "min       526.000           0.000                                   0.000   \n",
       "25%      3003.000           2.000                                   0.000   \n",
       "50%      7233.500           6.000                                   0.000   \n",
       "75%     18427.500          22.000                                   0.000   \n",
       "max   8396126.000       52384.000                                 335.000   \n",
       "\n",
       "       Rape\\n(revised\\ndefinition)1  Rape\\n(legacy\\ndefinition)2   Robbery  \\\n",
       "count                         0.000                      348.000   348.000   \n",
       "mean                            nan                        5.865    72.902   \n",
       "std                             nan                       60.425  1031.033   \n",
       "min                             nan                        0.000     0.000   \n",
       "25%                             nan                        0.000     0.000   \n",
       "50%                             nan                        0.000     1.000   \n",
       "75%                             nan                        2.000     5.000   \n",
       "max                             nan                     1112.000 19170.000   \n",
       "\n",
       "       Aggravated\\nassault  Property\\ncrime  Burglary  Larceny-\\ntheft  \\\n",
       "count              348.000          348.000   348.000          348.000   \n",
       "mean               121.261          792.606   119.684          637.017   \n",
       "std               1706.132         7659.725   924.949         6346.054   \n",
       "min                  0.000            0.000     0.000            0.000   \n",
       "25%                  1.000           40.500     6.000           31.000   \n",
       "50%                  4.000          112.500    17.500           94.000   \n",
       "75%                 14.000          341.000    51.250          287.250   \n",
       "max              31767.000       141971.000 16606.000       117931.000   \n",
       "\n",
       "       Motor\\nvehicle\\ntheft  Arson3  \n",
       "count                348.000 187.000  \n",
       "mean                  35.905   1.872  \n",
       "std                  403.424  10.693  \n",
       "min                    0.000   0.000  \n",
       "25%                    0.000   0.000  \n",
       "50%                    2.000   0.000  \n",
       "75%                    7.000   1.000  \n",
       "max                 7434.000 132.000  "
      ]
     },
     "execution_count": 243,
     "metadata": {},
     "output_type": "execute_result"
    }
   ],
   "source": [
    "df.describe()"
   ]
  },
  {
   "cell_type": "code",
   "execution_count": 244,
   "metadata": {},
   "outputs": [
    {
     "data": {
      "text/html": [
       "<div>\n",
       "<style scoped>\n",
       "    .dataframe tbody tr th:only-of-type {\n",
       "        vertical-align: middle;\n",
       "    }\n",
       "\n",
       "    .dataframe tbody tr th {\n",
       "        vertical-align: top;\n",
       "    }\n",
       "\n",
       "    .dataframe thead th {\n",
       "        text-align: right;\n",
       "    }\n",
       "</style>\n",
       "<table border=\"1\" class=\"dataframe\">\n",
       "  <thead>\n",
       "    <tr style=\"text-align: right;\">\n",
       "      <th></th>\n",
       "      <th>Population</th>\n",
       "      <th>Violent\n",
       "crime</th>\n",
       "      <th>Murder and\n",
       "nonnegligent\n",
       "manslaughter</th>\n",
       "      <th>Rape\n",
       "(revised\n",
       "definition)1</th>\n",
       "      <th>Rape\n",
       "(legacy\n",
       "definition)2</th>\n",
       "      <th>Robbery</th>\n",
       "      <th>Aggravated\n",
       "assault</th>\n",
       "      <th>Property\n",
       "crime</th>\n",
       "      <th>Burglary</th>\n",
       "      <th>Larceny-\n",
       "theft</th>\n",
       "      <th>Motor\n",
       "vehicle\n",
       "theft</th>\n",
       "      <th>Arson3</th>\n",
       "    </tr>\n",
       "  </thead>\n",
       "  <tbody>\n",
       "    <tr>\n",
       "      <th>count</th>\n",
       "      <td>369.000</td>\n",
       "      <td>369.000</td>\n",
       "      <td>369.000</td>\n",
       "      <td>227.000</td>\n",
       "      <td>142.000</td>\n",
       "      <td>369.000</td>\n",
       "      <td>369.000</td>\n",
       "      <td>368.000</td>\n",
       "      <td>369.000</td>\n",
       "      <td>368.000</td>\n",
       "      <td>369.000</td>\n",
       "      <td>365.000</td>\n",
       "    </tr>\n",
       "    <tr>\n",
       "      <th>mean</th>\n",
       "      <td>37814.824</td>\n",
       "      <td>183.691</td>\n",
       "      <td>1.453</td>\n",
       "      <td>15.555</td>\n",
       "      <td>0.007</td>\n",
       "      <td>60.661</td>\n",
       "      <td>112.005</td>\n",
       "      <td>698.361</td>\n",
       "      <td>100.900</td>\n",
       "      <td>562.791</td>\n",
       "      <td>34.317</td>\n",
       "      <td>1.425</td>\n",
       "    </tr>\n",
       "    <tr>\n",
       "      <th>std</th>\n",
       "      <td>441159.058</td>\n",
       "      <td>2638.842</td>\n",
       "      <td>17.694</td>\n",
       "      <td>146.261</td>\n",
       "      <td>0.084</td>\n",
       "      <td>866.481</td>\n",
       "      <td>1640.515</td>\n",
       "      <td>7123.614</td>\n",
       "      <td>855.103</td>\n",
       "      <td>5869.850</td>\n",
       "      <td>406.957</td>\n",
       "      <td>7.995</td>\n",
       "    </tr>\n",
       "    <tr>\n",
       "      <th>min</th>\n",
       "      <td>79.000</td>\n",
       "      <td>0.000</td>\n",
       "      <td>0.000</td>\n",
       "      <td>0.000</td>\n",
       "      <td>0.000</td>\n",
       "      <td>0.000</td>\n",
       "      <td>0.000</td>\n",
       "      <td>0.000</td>\n",
       "      <td>0.000</td>\n",
       "      <td>0.000</td>\n",
       "      <td>0.000</td>\n",
       "      <td>0.000</td>\n",
       "    </tr>\n",
       "    <tr>\n",
       "      <th>25%</th>\n",
       "      <td>2631.000</td>\n",
       "      <td>1.000</td>\n",
       "      <td>0.000</td>\n",
       "      <td>0.000</td>\n",
       "      <td>0.000</td>\n",
       "      <td>0.000</td>\n",
       "      <td>0.000</td>\n",
       "      <td>25.000</td>\n",
       "      <td>4.000</td>\n",
       "      <td>20.000</td>\n",
       "      <td>0.000</td>\n",
       "      <td>0.000</td>\n",
       "    </tr>\n",
       "    <tr>\n",
       "      <th>50%</th>\n",
       "      <td>6581.000</td>\n",
       "      <td>5.000</td>\n",
       "      <td>0.000</td>\n",
       "      <td>1.000</td>\n",
       "      <td>0.000</td>\n",
       "      <td>1.000</td>\n",
       "      <td>3.000</td>\n",
       "      <td>76.000</td>\n",
       "      <td>12.000</td>\n",
       "      <td>60.500</td>\n",
       "      <td>2.000</td>\n",
       "      <td>0.000</td>\n",
       "    </tr>\n",
       "    <tr>\n",
       "      <th>75%</th>\n",
       "      <td>15408.000</td>\n",
       "      <td>18.000</td>\n",
       "      <td>0.000</td>\n",
       "      <td>4.000</td>\n",
       "      <td>0.000</td>\n",
       "      <td>4.000</td>\n",
       "      <td>12.000</td>\n",
       "      <td>271.500</td>\n",
       "      <td>39.000</td>\n",
       "      <td>228.500</td>\n",
       "      <td>6.000</td>\n",
       "      <td>1.000</td>\n",
       "    </tr>\n",
       "    <tr>\n",
       "      <th>max</th>\n",
       "      <td>8473938.000</td>\n",
       "      <td>50564.000</td>\n",
       "      <td>333.000</td>\n",
       "      <td>2190.000</td>\n",
       "      <td>1.000</td>\n",
       "      <td>16581.000</td>\n",
       "      <td>31460.000</td>\n",
       "      <td>135747.000</td>\n",
       "      <td>15916.000</td>\n",
       "      <td>112107.000</td>\n",
       "      <td>7724.000</td>\n",
       "      <td>135.000</td>\n",
       "    </tr>\n",
       "  </tbody>\n",
       "</table>\n",
       "</div>"
      ],
      "text/plain": [
       "       Population  Violent\\ncrime  Murder and\\nnonnegligent\\nmanslaughter  \\\n",
       "count     369.000         369.000                                 369.000   \n",
       "mean    37814.824         183.691                                   1.453   \n",
       "std    441159.058        2638.842                                  17.694   \n",
       "min        79.000           0.000                                   0.000   \n",
       "25%      2631.000           1.000                                   0.000   \n",
       "50%      6581.000           5.000                                   0.000   \n",
       "75%     15408.000          18.000                                   0.000   \n",
       "max   8473938.000       50564.000                                 333.000   \n",
       "\n",
       "       Rape\\n(revised\\ndefinition)1  Rape\\n(legacy\\ndefinition)2   Robbery  \\\n",
       "count                       227.000                      142.000   369.000   \n",
       "mean                         15.555                        0.007    60.661   \n",
       "std                         146.261                        0.084   866.481   \n",
       "min                           0.000                        0.000     0.000   \n",
       "25%                           0.000                        0.000     0.000   \n",
       "50%                           1.000                        0.000     1.000   \n",
       "75%                           4.000                        0.000     4.000   \n",
       "max                        2190.000                        1.000 16581.000   \n",
       "\n",
       "       Aggravated\\nassault  Property\\ncrime  Burglary  Larceny-\\ntheft  \\\n",
       "count              369.000          368.000   369.000          368.000   \n",
       "mean               112.005          698.361   100.900          562.791   \n",
       "std               1640.515         7123.614   855.103         5869.850   \n",
       "min                  0.000            0.000     0.000            0.000   \n",
       "25%                  0.000           25.000     4.000           20.000   \n",
       "50%                  3.000           76.000    12.000           60.500   \n",
       "75%                 12.000          271.500    39.000          228.500   \n",
       "max              31460.000       135747.000 15916.000       112107.000   \n",
       "\n",
       "       Motor\\nvehicle\\ntheft  Arson3  \n",
       "count                369.000 365.000  \n",
       "mean                  34.317   1.425  \n",
       "std                  406.957   7.995  \n",
       "min                    0.000   0.000  \n",
       "25%                    0.000   0.000  \n",
       "50%                    2.000   0.000  \n",
       "75%                    6.000   1.000  \n",
       "max                 7724.000 135.000  "
      ]
     },
     "execution_count": 244,
     "metadata": {},
     "output_type": "execute_result"
    }
   ],
   "source": [
    "df2014.describe()"
   ]
  },
  {
   "cell_type": "markdown",
   "metadata": {},
   "source": [
    "### >>> std in `Population` is huge, this is an outlier that kills the analysis!\n",
    "\n",
    "Drop values in \"Population\" that are outliers (more than 3 stdev from the mean):"
   ]
  },
  {
   "cell_type": "code",
   "execution_count": 311,
   "metadata": {},
   "outputs": [],
   "source": [
    "q = df[\"Population\"].quantile(0.99)\n",
    "df2=df[df[\"Population\"] < q].sort_values('Population', ascending=False)"
   ]
  },
  {
   "cell_type": "code",
   "execution_count": 312,
   "metadata": {},
   "outputs": [],
   "source": [
    "q = df2014[\"Population\"].quantile(0.99)\n",
    "df22=df2014[df2014[\"Population\"] < q].sort_values('Population', ascending=False)"
   ]
  },
  {
   "cell_type": "code",
   "execution_count": 313,
   "metadata": {},
   "outputs": [
    {
     "data": {
      "text/html": [
       "<div>\n",
       "<style scoped>\n",
       "    .dataframe tbody tr th:only-of-type {\n",
       "        vertical-align: middle;\n",
       "    }\n",
       "\n",
       "    .dataframe tbody tr th {\n",
       "        vertical-align: top;\n",
       "    }\n",
       "\n",
       "    .dataframe thead th {\n",
       "        text-align: right;\n",
       "    }\n",
       "</style>\n",
       "<table border=\"1\" class=\"dataframe\">\n",
       "  <thead>\n",
       "    <tr style=\"text-align: right;\">\n",
       "      <th></th>\n",
       "      <th>Population</th>\n",
       "      <th>Violent\n",
       "crime</th>\n",
       "      <th>Murder and\n",
       "nonnegligent\n",
       "manslaughter</th>\n",
       "      <th>Rape\n",
       "(revised\n",
       "definition)1</th>\n",
       "      <th>Rape\n",
       "(legacy\n",
       "definition)2</th>\n",
       "      <th>Robbery</th>\n",
       "      <th>Aggravated\n",
       "assault</th>\n",
       "      <th>Property\n",
       "crime</th>\n",
       "      <th>Burglary</th>\n",
       "      <th>Larceny-\n",
       "theft</th>\n",
       "      <th>Motor\n",
       "vehicle\n",
       "theft</th>\n",
       "      <th>Arson3</th>\n",
       "    </tr>\n",
       "  </thead>\n",
       "  <tbody>\n",
       "    <tr>\n",
       "      <th>count</th>\n",
       "      <td>344.000</td>\n",
       "      <td>344.000</td>\n",
       "      <td>344.000</td>\n",
       "      <td>0.000</td>\n",
       "      <td>344.000</td>\n",
       "      <td>344.000</td>\n",
       "      <td>344.000</td>\n",
       "      <td>344.000</td>\n",
       "      <td>344.000</td>\n",
       "      <td>344.000</td>\n",
       "      <td>344.000</td>\n",
       "      <td>185.000</td>\n",
       "    </tr>\n",
       "    <tr>\n",
       "      <th>mean</th>\n",
       "      <td>14152.573</td>\n",
       "      <td>33.078</td>\n",
       "      <td>0.334</td>\n",
       "      <td>nan</td>\n",
       "      <td>1.939</td>\n",
       "      <td>10.378</td>\n",
       "      <td>20.427</td>\n",
       "      <td>316.703</td>\n",
       "      <td>53.863</td>\n",
       "      <td>253.366</td>\n",
       "      <td>9.474</td>\n",
       "      <td>1.124</td>\n",
       "    </tr>\n",
       "    <tr>\n",
       "      <th>std</th>\n",
       "      <td>18876.821</td>\n",
       "      <td>105.876</td>\n",
       "      <td>1.560</td>\n",
       "      <td>nan</td>\n",
       "      <td>5.662</td>\n",
       "      <td>36.304</td>\n",
       "      <td>64.049</td>\n",
       "      <td>602.881</td>\n",
       "      <td>134.721</td>\n",
       "      <td>454.847</td>\n",
       "      <td>28.851</td>\n",
       "      <td>4.758</td>\n",
       "    </tr>\n",
       "    <tr>\n",
       "      <th>min</th>\n",
       "      <td>526.000</td>\n",
       "      <td>0.000</td>\n",
       "      <td>0.000</td>\n",
       "      <td>nan</td>\n",
       "      <td>0.000</td>\n",
       "      <td>0.000</td>\n",
       "      <td>0.000</td>\n",
       "      <td>0.000</td>\n",
       "      <td>0.000</td>\n",
       "      <td>0.000</td>\n",
       "      <td>0.000</td>\n",
       "      <td>0.000</td>\n",
       "    </tr>\n",
       "    <tr>\n",
       "      <th>25%</th>\n",
       "      <td>2983.250</td>\n",
       "      <td>2.000</td>\n",
       "      <td>0.000</td>\n",
       "      <td>nan</td>\n",
       "      <td>0.000</td>\n",
       "      <td>0.000</td>\n",
       "      <td>1.000</td>\n",
       "      <td>39.000</td>\n",
       "      <td>6.000</td>\n",
       "      <td>31.000</td>\n",
       "      <td>0.000</td>\n",
       "      <td>0.000</td>\n",
       "    </tr>\n",
       "    <tr>\n",
       "      <th>50%</th>\n",
       "      <td>7106.000</td>\n",
       "      <td>6.000</td>\n",
       "      <td>0.000</td>\n",
       "      <td>nan</td>\n",
       "      <td>0.000</td>\n",
       "      <td>1.000</td>\n",
       "      <td>4.000</td>\n",
       "      <td>111.500</td>\n",
       "      <td>17.000</td>\n",
       "      <td>93.500</td>\n",
       "      <td>2.000</td>\n",
       "      <td>0.000</td>\n",
       "    </tr>\n",
       "    <tr>\n",
       "      <th>75%</th>\n",
       "      <td>17889.250</td>\n",
       "      <td>21.000</td>\n",
       "      <td>0.000</td>\n",
       "      <td>nan</td>\n",
       "      <td>2.000</td>\n",
       "      <td>5.000</td>\n",
       "      <td>13.250</td>\n",
       "      <td>334.750</td>\n",
       "      <td>50.000</td>\n",
       "      <td>275.500</td>\n",
       "      <td>7.000</td>\n",
       "      <td>1.000</td>\n",
       "    </tr>\n",
       "    <tr>\n",
       "      <th>max</th>\n",
       "      <td>143834.000</td>\n",
       "      <td>1192.000</td>\n",
       "      <td>21.000</td>\n",
       "      <td>nan</td>\n",
       "      <td>75.000</td>\n",
       "      <td>400.000</td>\n",
       "      <td>696.000</td>\n",
       "      <td>6473.000</td>\n",
       "      <td>1781.000</td>\n",
       "      <td>4298.000</td>\n",
       "      <td>394.000</td>\n",
       "      <td>57.000</td>\n",
       "    </tr>\n",
       "  </tbody>\n",
       "</table>\n",
       "</div>"
      ],
      "text/plain": [
       "       Population  Violent\\ncrime  Murder and\\nnonnegligent\\nmanslaughter  \\\n",
       "count     344.000         344.000                                 344.000   \n",
       "mean    14152.573          33.078                                   0.334   \n",
       "std     18876.821         105.876                                   1.560   \n",
       "min       526.000           0.000                                   0.000   \n",
       "25%      2983.250           2.000                                   0.000   \n",
       "50%      7106.000           6.000                                   0.000   \n",
       "75%     17889.250          21.000                                   0.000   \n",
       "max    143834.000        1192.000                                  21.000   \n",
       "\n",
       "       Rape\\n(revised\\ndefinition)1  Rape\\n(legacy\\ndefinition)2  Robbery  \\\n",
       "count                         0.000                      344.000  344.000   \n",
       "mean                            nan                        1.939   10.378   \n",
       "std                             nan                        5.662   36.304   \n",
       "min                             nan                        0.000    0.000   \n",
       "25%                             nan                        0.000    0.000   \n",
       "50%                             nan                        0.000    1.000   \n",
       "75%                             nan                        2.000    5.000   \n",
       "max                             nan                       75.000  400.000   \n",
       "\n",
       "       Aggravated\\nassault  Property\\ncrime  Burglary  Larceny-\\ntheft  \\\n",
       "count              344.000          344.000   344.000          344.000   \n",
       "mean                20.427          316.703    53.863          253.366   \n",
       "std                 64.049          602.881   134.721          454.847   \n",
       "min                  0.000            0.000     0.000            0.000   \n",
       "25%                  1.000           39.000     6.000           31.000   \n",
       "50%                  4.000          111.500    17.000           93.500   \n",
       "75%                 13.250          334.750    50.000          275.500   \n",
       "max                696.000         6473.000  1781.000         4298.000   \n",
       "\n",
       "       Motor\\nvehicle\\ntheft  Arson3  \n",
       "count                344.000 185.000  \n",
       "mean                   9.474   1.124  \n",
       "std                   28.851   4.758  \n",
       "min                    0.000   0.000  \n",
       "25%                    0.000   0.000  \n",
       "50%                    2.000   0.000  \n",
       "75%                    7.000   1.000  \n",
       "max                  394.000  57.000  "
      ]
     },
     "execution_count": 313,
     "metadata": {},
     "output_type": "execute_result"
    }
   ],
   "source": [
    "df2.describe()"
   ]
  },
  {
   "cell_type": "code",
   "execution_count": 248,
   "metadata": {},
   "outputs": [
    {
     "data": {
      "text/html": [
       "<div>\n",
       "<style scoped>\n",
       "    .dataframe tbody tr th:only-of-type {\n",
       "        vertical-align: middle;\n",
       "    }\n",
       "\n",
       "    .dataframe tbody tr th {\n",
       "        vertical-align: top;\n",
       "    }\n",
       "\n",
       "    .dataframe thead th {\n",
       "        text-align: right;\n",
       "    }\n",
       "</style>\n",
       "<table border=\"1\" class=\"dataframe\">\n",
       "  <thead>\n",
       "    <tr style=\"text-align: right;\">\n",
       "      <th></th>\n",
       "      <th>Population</th>\n",
       "      <th>Violent\n",
       "crime</th>\n",
       "      <th>Murder and\n",
       "nonnegligent\n",
       "manslaughter</th>\n",
       "      <th>Rape\n",
       "(revised\n",
       "definition)1</th>\n",
       "      <th>Rape\n",
       "(legacy\n",
       "definition)2</th>\n",
       "      <th>Robbery</th>\n",
       "      <th>Aggravated\n",
       "assault</th>\n",
       "      <th>Property\n",
       "crime</th>\n",
       "      <th>Burglary</th>\n",
       "      <th>Larceny-\n",
       "theft</th>\n",
       "      <th>Motor\n",
       "vehicle\n",
       "theft</th>\n",
       "      <th>Arson3</th>\n",
       "    </tr>\n",
       "  </thead>\n",
       "  <tbody>\n",
       "    <tr>\n",
       "      <th>count</th>\n",
       "      <td>365.000</td>\n",
       "      <td>365.000</td>\n",
       "      <td>365.000</td>\n",
       "      <td>223.000</td>\n",
       "      <td>142.000</td>\n",
       "      <td>365.000</td>\n",
       "      <td>365.000</td>\n",
       "      <td>364.000</td>\n",
       "      <td>365.000</td>\n",
       "      <td>364.000</td>\n",
       "      <td>365.000</td>\n",
       "      <td>363.000</td>\n",
       "    </tr>\n",
       "    <tr>\n",
       "      <th>mean</th>\n",
       "      <td>13179.019</td>\n",
       "      <td>30.973</td>\n",
       "      <td>0.310</td>\n",
       "      <td>4.233</td>\n",
       "      <td>0.007</td>\n",
       "      <td>9.507</td>\n",
       "      <td>18.567</td>\n",
       "      <td>269.055</td>\n",
       "      <td>42.899</td>\n",
       "      <td>217.541</td>\n",
       "      <td>8.488</td>\n",
       "      <td>1.019</td>\n",
       "    </tr>\n",
       "    <tr>\n",
       "      <th>std</th>\n",
       "      <td>18605.365</td>\n",
       "      <td>102.287</td>\n",
       "      <td>1.414</td>\n",
       "      <td>9.955</td>\n",
       "      <td>0.084</td>\n",
       "      <td>34.751</td>\n",
       "      <td>60.711</td>\n",
       "      <td>555.891</td>\n",
       "      <td>110.357</td>\n",
       "      <td>432.246</td>\n",
       "      <td>26.932</td>\n",
       "      <td>3.783</td>\n",
       "    </tr>\n",
       "    <tr>\n",
       "      <th>min</th>\n",
       "      <td>79.000</td>\n",
       "      <td>0.000</td>\n",
       "      <td>0.000</td>\n",
       "      <td>0.000</td>\n",
       "      <td>0.000</td>\n",
       "      <td>0.000</td>\n",
       "      <td>0.000</td>\n",
       "      <td>0.000</td>\n",
       "      <td>0.000</td>\n",
       "      <td>0.000</td>\n",
       "      <td>0.000</td>\n",
       "      <td>0.000</td>\n",
       "    </tr>\n",
       "    <tr>\n",
       "      <th>25%</th>\n",
       "      <td>2620.000</td>\n",
       "      <td>1.000</td>\n",
       "      <td>0.000</td>\n",
       "      <td>0.000</td>\n",
       "      <td>0.000</td>\n",
       "      <td>0.000</td>\n",
       "      <td>0.000</td>\n",
       "      <td>24.750</td>\n",
       "      <td>4.000</td>\n",
       "      <td>20.000</td>\n",
       "      <td>0.000</td>\n",
       "      <td>0.000</td>\n",
       "    </tr>\n",
       "    <tr>\n",
       "      <th>50%</th>\n",
       "      <td>6467.000</td>\n",
       "      <td>5.000</td>\n",
       "      <td>0.000</td>\n",
       "      <td>1.000</td>\n",
       "      <td>0.000</td>\n",
       "      <td>1.000</td>\n",
       "      <td>3.000</td>\n",
       "      <td>75.000</td>\n",
       "      <td>12.000</td>\n",
       "      <td>59.000</td>\n",
       "      <td>2.000</td>\n",
       "      <td>0.000</td>\n",
       "    </tr>\n",
       "    <tr>\n",
       "      <th>75%</th>\n",
       "      <td>15216.000</td>\n",
       "      <td>17.000</td>\n",
       "      <td>0.000</td>\n",
       "      <td>3.000</td>\n",
       "      <td>0.000</td>\n",
       "      <td>4.000</td>\n",
       "      <td>11.000</td>\n",
       "      <td>264.500</td>\n",
       "      <td>38.000</td>\n",
       "      <td>212.750</td>\n",
       "      <td>6.000</td>\n",
       "      <td>1.000</td>\n",
       "    </tr>\n",
       "    <tr>\n",
       "      <th>max</th>\n",
       "      <td>144534.000</td>\n",
       "      <td>1164.000</td>\n",
       "      <td>20.000</td>\n",
       "      <td>70.000</td>\n",
       "      <td>1.000</td>\n",
       "      <td>406.000</td>\n",
       "      <td>668.000</td>\n",
       "      <td>5755.000</td>\n",
       "      <td>1404.000</td>\n",
       "      <td>3986.000</td>\n",
       "      <td>365.000</td>\n",
       "      <td>57.000</td>\n",
       "    </tr>\n",
       "  </tbody>\n",
       "</table>\n",
       "</div>"
      ],
      "text/plain": [
       "       Population  Violent\\ncrime  Murder and\\nnonnegligent\\nmanslaughter  \\\n",
       "count     365.000         365.000                                 365.000   \n",
       "mean    13179.019          30.973                                   0.310   \n",
       "std     18605.365         102.287                                   1.414   \n",
       "min        79.000           0.000                                   0.000   \n",
       "25%      2620.000           1.000                                   0.000   \n",
       "50%      6467.000           5.000                                   0.000   \n",
       "75%     15216.000          17.000                                   0.000   \n",
       "max    144534.000        1164.000                                  20.000   \n",
       "\n",
       "       Rape\\n(revised\\ndefinition)1  Rape\\n(legacy\\ndefinition)2  Robbery  \\\n",
       "count                       223.000                      142.000  365.000   \n",
       "mean                          4.233                        0.007    9.507   \n",
       "std                           9.955                        0.084   34.751   \n",
       "min                           0.000                        0.000    0.000   \n",
       "25%                           0.000                        0.000    0.000   \n",
       "50%                           1.000                        0.000    1.000   \n",
       "75%                           3.000                        0.000    4.000   \n",
       "max                          70.000                        1.000  406.000   \n",
       "\n",
       "       Aggravated\\nassault  Property\\ncrime  Burglary  Larceny-\\ntheft  \\\n",
       "count              365.000          364.000   365.000          364.000   \n",
       "mean                18.567          269.055    42.899          217.541   \n",
       "std                 60.711          555.891   110.357          432.246   \n",
       "min                  0.000            0.000     0.000            0.000   \n",
       "25%                  0.000           24.750     4.000           20.000   \n",
       "50%                  3.000           75.000    12.000           59.000   \n",
       "75%                 11.000          264.500    38.000          212.750   \n",
       "max                668.000         5755.000  1404.000         3986.000   \n",
       "\n",
       "       Motor\\nvehicle\\ntheft  Arson3  \n",
       "count                365.000 363.000  \n",
       "mean                   8.488   1.019  \n",
       "std                   26.932   3.783  \n",
       "min                    0.000   0.000  \n",
       "25%                    0.000   0.000  \n",
       "50%                    2.000   0.000  \n",
       "75%                    6.000   1.000  \n",
       "max                  365.000  57.000  "
      ]
     },
     "execution_count": 248,
     "metadata": {},
     "output_type": "execute_result"
    }
   ],
   "source": [
    "df22.describe()"
   ]
  },
  {
   "cell_type": "code",
   "execution_count": 249,
   "metadata": {
    "scrolled": true
   },
   "outputs": [
    {
     "data": {
      "text/plain": [
       "0     139\n",
       "1      56\n",
       "2      25\n",
       "3      23\n",
       "4      14\n",
       "5      10\n",
       "16      7\n",
       "6       6\n",
       "13      5\n",
       "11      5\n",
       "Name: Robbery, dtype: int64"
      ]
     },
     "execution_count": 249,
     "metadata": {},
     "output_type": "execute_result"
    }
   ],
   "source": [
    "df2['Robbery'].value_counts().head(10)"
   ]
  },
  {
   "cell_type": "code",
   "execution_count": 250,
   "metadata": {},
   "outputs": [
    {
     "data": {
      "text/plain": [
       "0     173\n",
       "1      49\n",
       "2      24\n",
       "4      21\n",
       "3      19\n",
       "7       8\n",
       "8       6\n",
       "12      5\n",
       "6       5\n",
       "5       4\n",
       "Name: Robbery, dtype: int64"
      ]
     },
     "execution_count": 250,
     "metadata": {},
     "output_type": "execute_result"
    }
   ],
   "source": [
    "df22['Robbery'].value_counts().head(10)"
   ]
  },
  {
   "cell_type": "markdown",
   "metadata": {},
   "source": [
    "### Create a new column from `Robbery` that has binary data based on condition:"
   ]
  },
  {
   "cell_type": "code",
   "execution_count": 314,
   "metadata": {
    "scrolled": true
   },
   "outputs": [
    {
     "name": "stdout",
     "output_type": "stream",
     "text": [
      "           count   mean    std   min    25%    50%    75%     max\n",
      "Robbery2                                                         \n",
      "0        267.000  1.052  1.426 0.000  0.000  0.000  2.000   5.000\n",
      "1         77.000 42.714 67.647 6.000 10.000 16.000 31.000 400.000\n"
     ]
    }
   ],
   "source": [
    "df2['Robbery2'] = np.where(df2['Robbery']>5, 1, 0)\n",
    "\n",
    "# Check to make sure it worked.\n",
    "print(df2['Robbery'].groupby(df2['Robbery2']).describe())"
   ]
  },
  {
   "cell_type": "code",
   "execution_count": 315,
   "metadata": {},
   "outputs": [
    {
     "name": "stdout",
     "output_type": "stream",
     "text": [
      "           count   mean    std   min   25%    50%    75%     max\n",
      "Robbery2                                                        \n",
      "0        290.000  0.890  1.345 0.000 0.000  0.000  1.000   5.000\n",
      "1         75.000 42.827 67.209 6.000 9.000 17.000 37.500 406.000\n"
     ]
    }
   ],
   "source": [
    "df22['Robbery2'] = np.where(df22['Robbery']>5, 1, 0)\n",
    "\n",
    "# Check to make sure it worked.\n",
    "print(df22['Robbery'].groupby(df22['Robbery2']).describe())"
   ]
  },
  {
   "cell_type": "markdown",
   "metadata": {},
   "source": [
    "### Use 'Larceny-\\ntheft' column as a new member in the equation for predicting Property Crimes!"
   ]
  },
  {
   "cell_type": "code",
   "execution_count": 316,
   "metadata": {},
   "outputs": [],
   "source": [
    "df2.loc[df['Murder and\\nnonnegligent\\nmanslaughter']>0,'Murder']=1\n",
    "df2.loc[df['Murder and\\nnonnegligent\\nmanslaughter']==0,'Murder']=0"
   ]
  },
  {
   "cell_type": "code",
   "execution_count": 317,
   "metadata": {},
   "outputs": [],
   "source": [
    "df22.loc[df2014['Murder and\\nnonnegligent\\nmanslaughter']>0,'Murder']=1\n",
    "df22.loc[df2014['Murder and\\nnonnegligent\\nmanslaughter']==0,'Murder']=0"
   ]
  },
  {
   "cell_type": "code",
   "execution_count": 255,
   "metadata": {
    "scrolled": true
   },
   "outputs": [
    {
     "data": {
      "text/plain": [
       "Index(['City', 'Population', 'Violent\\ncrime',\n",
       "       'Murder and\\nnonnegligent\\nmanslaughter',\n",
       "       'Rape\\n(revised\\ndefinition)1', 'Rape\\n(legacy\\ndefinition)2',\n",
       "       'Robbery', 'Aggravated\\nassault', 'Property\\ncrime', 'Burglary',\n",
       "       'Larceny-\\ntheft', 'Motor\\nvehicle\\ntheft', 'Arson3', 'Robbery2',\n",
       "       'Murder'],\n",
       "      dtype='object')"
      ]
     },
     "execution_count": 255,
     "metadata": {},
     "output_type": "execute_result"
    }
   ],
   "source": [
    "df2.columns"
   ]
  },
  {
   "cell_type": "code",
   "execution_count": 318,
   "metadata": {},
   "outputs": [],
   "source": [
    "df2=df2.drop(['City', 'Violent\\ncrime',\n",
    "       'Murder and\\nnonnegligent\\nmanslaughter',\n",
    "       'Rape\\n(revised\\ndefinition)1', 'Rape\\n(legacy\\ndefinition)2',\n",
    "        'Aggravated\\nassault', 'Burglary', 'Robbery',\n",
    "       'Motor\\nvehicle\\ntheft', 'Arson3'],axis=1)"
   ]
  },
  {
   "cell_type": "code",
   "execution_count": 319,
   "metadata": {},
   "outputs": [],
   "source": [
    "df22=df22.drop(['City', 'Violent\\ncrime',\n",
    "       'Murder and\\nnonnegligent\\nmanslaughter',\n",
    "       'Rape\\n(revised\\ndefinition)1', 'Rape\\n(legacy\\ndefinition)2',\n",
    "        'Aggravated\\nassault', 'Burglary', 'Robbery',\n",
    "       'Motor\\nvehicle\\ntheft', 'Arson3'],axis=1)"
   ]
  },
  {
   "cell_type": "code",
   "execution_count": 320,
   "metadata": {
    "scrolled": true
   },
   "outputs": [
    {
     "data": {
      "text/plain": [
       "Population           int64\n",
       "Property\\ncrime      int64\n",
       "Larceny-\\ntheft      int64\n",
       "Robbery2             int32\n",
       "Murder             float64\n",
       "dtype: object"
      ]
     },
     "execution_count": 320,
     "metadata": {},
     "output_type": "execute_result"
    }
   ],
   "source": [
    "df2.dtypes"
   ]
  },
  {
   "cell_type": "code",
   "execution_count": 321,
   "metadata": {},
   "outputs": [
    {
     "data": {
      "text/plain": [
       "Population           int64\n",
       "Property\\ncrime    float64\n",
       "Larceny-\\ntheft    float64\n",
       "Robbery2             int32\n",
       "Murder             float64\n",
       "dtype: object"
      ]
     },
     "execution_count": 321,
     "metadata": {},
     "output_type": "execute_result"
    }
   ],
   "source": [
    "df22.dtypes"
   ]
  },
  {
   "cell_type": "markdown",
   "metadata": {},
   "source": [
    "-------------\n",
    "$$ Property crime = \\alpha + Population +  Murder + Robbery + Larceny$$"
   ]
  },
  {
   "cell_type": "code",
   "execution_count": 322,
   "metadata": {
    "scrolled": false
   },
   "outputs": [
    {
     "data": {
      "text/html": [
       "<div>\n",
       "<style scoped>\n",
       "    .dataframe tbody tr th:only-of-type {\n",
       "        vertical-align: middle;\n",
       "    }\n",
       "\n",
       "    .dataframe tbody tr th {\n",
       "        vertical-align: top;\n",
       "    }\n",
       "\n",
       "    .dataframe thead th {\n",
       "        text-align: right;\n",
       "    }\n",
       "</style>\n",
       "<table border=\"1\" class=\"dataframe\">\n",
       "  <thead>\n",
       "    <tr style=\"text-align: right;\">\n",
       "      <th></th>\n",
       "      <th>Property\n",
       "crime</th>\n",
       "      <th>Population</th>\n",
       "      <th>Murder</th>\n",
       "      <th>Robbery2</th>\n",
       "      <th>Larceny-\n",
       "theft</th>\n",
       "    </tr>\n",
       "  </thead>\n",
       "  <tbody>\n",
       "    <tr>\n",
       "      <th>310</th>\n",
       "      <td>6473</td>\n",
       "      <td>143834</td>\n",
       "      <td>1.000</td>\n",
       "      <td>1</td>\n",
       "      <td>4298</td>\n",
       "    </tr>\n",
       "    <tr>\n",
       "      <th>7</th>\n",
       "      <td>2118</td>\n",
       "      <td>118296</td>\n",
       "      <td>1.000</td>\n",
       "      <td>1</td>\n",
       "      <td>1882</td>\n",
       "    </tr>\n",
       "    <tr>\n",
       "      <th>3</th>\n",
       "      <td>4090</td>\n",
       "      <td>97956</td>\n",
       "      <td>1.000</td>\n",
       "      <td>1</td>\n",
       "      <td>3243</td>\n",
       "    </tr>\n",
       "    <tr>\n",
       "      <th>126</th>\n",
       "      <td>2303</td>\n",
       "      <td>96667</td>\n",
       "      <td>0.000</td>\n",
       "      <td>1</td>\n",
       "      <td>1925</td>\n",
       "    </tr>\n",
       "    <tr>\n",
       "      <th>267</th>\n",
       "      <td>567</td>\n",
       "      <td>87204</td>\n",
       "      <td>1.000</td>\n",
       "      <td>1</td>\n",
       "      <td>466</td>\n",
       "    </tr>\n",
       "  </tbody>\n",
       "</table>\n",
       "</div>"
      ],
      "text/plain": [
       "     Property\\ncrime  Population  Murder  Robbery2  Larceny-\\ntheft\n",
       "310             6473      143834   1.000         1             4298\n",
       "7               2118      118296   1.000         1             1882\n",
       "3               4090       97956   1.000         1             3243\n",
       "126             2303       96667   0.000         1             1925\n",
       "267              567       87204   1.000         1              466"
      ]
     },
     "execution_count": 322,
     "metadata": {},
     "output_type": "execute_result"
    }
   ],
   "source": [
    "# Create a new df to hold only these variable:\n",
    "\n",
    "prop_crime = df2[['Property\\ncrime','Population','Murder','Robbery2','Larceny-\\ntheft']]\n",
    "prop_crime.head()"
   ]
  },
  {
   "cell_type": "code",
   "execution_count": 323,
   "metadata": {},
   "outputs": [
    {
     "data": {
      "text/html": [
       "<div>\n",
       "<style scoped>\n",
       "    .dataframe tbody tr th:only-of-type {\n",
       "        vertical-align: middle;\n",
       "    }\n",
       "\n",
       "    .dataframe tbody tr th {\n",
       "        vertical-align: top;\n",
       "    }\n",
       "\n",
       "    .dataframe thead th {\n",
       "        text-align: right;\n",
       "    }\n",
       "</style>\n",
       "<table border=\"1\" class=\"dataframe\">\n",
       "  <thead>\n",
       "    <tr style=\"text-align: right;\">\n",
       "      <th></th>\n",
       "      <th>Property\n",
       "crime</th>\n",
       "      <th>Population</th>\n",
       "      <th>Murder</th>\n",
       "      <th>Robbery2</th>\n",
       "      <th>Larceny-\n",
       "theft</th>\n",
       "    </tr>\n",
       "  </thead>\n",
       "  <tbody>\n",
       "    <tr>\n",
       "      <th>326</th>\n",
       "      <td>5755.000</td>\n",
       "      <td>144534</td>\n",
       "      <td>1.000</td>\n",
       "      <td>1</td>\n",
       "      <td>3986.000</td>\n",
       "    </tr>\n",
       "    <tr>\n",
       "      <th>9</th>\n",
       "      <td>2066.000</td>\n",
       "      <td>118860</td>\n",
       "      <td>1.000</td>\n",
       "      <td>1</td>\n",
       "      <td>1846.000</td>\n",
       "    </tr>\n",
       "    <tr>\n",
       "      <th>4</th>\n",
       "      <td>3888.000</td>\n",
       "      <td>98595</td>\n",
       "      <td>1.000</td>\n",
       "      <td>1</td>\n",
       "      <td>3083.000</td>\n",
       "    </tr>\n",
       "    <tr>\n",
       "      <th>130</th>\n",
       "      <td>2430.000</td>\n",
       "      <td>97144</td>\n",
       "      <td>1.000</td>\n",
       "      <td>1</td>\n",
       "      <td>2073.000</td>\n",
       "    </tr>\n",
       "    <tr>\n",
       "      <th>279</th>\n",
       "      <td>643.000</td>\n",
       "      <td>88881</td>\n",
       "      <td>0.000</td>\n",
       "      <td>1</td>\n",
       "      <td>536.000</td>\n",
       "    </tr>\n",
       "  </tbody>\n",
       "</table>\n",
       "</div>"
      ],
      "text/plain": [
       "     Property\\ncrime  Population  Murder  Robbery2  Larceny-\\ntheft\n",
       "326         5755.000      144534   1.000         1         3986.000\n",
       "9           2066.000      118860   1.000         1         1846.000\n",
       "4           3888.000       98595   1.000         1         3083.000\n",
       "130         2430.000       97144   1.000         1         2073.000\n",
       "279          643.000       88881   0.000         1          536.000"
      ]
     },
     "execution_count": 323,
     "metadata": {},
     "output_type": "execute_result"
    }
   ],
   "source": [
    "# Create a new df to hold only these variable:\n",
    "\n",
    "prop_crime22 = df22[['Property\\ncrime','Population','Murder','Robbery2','Larceny-\\ntheft']]\n",
    "prop_crime22.head()"
   ]
  },
  {
   "cell_type": "code",
   "execution_count": 262,
   "metadata": {},
   "outputs": [
    {
     "data": {
      "text/html": [
       "<div>\n",
       "<style scoped>\n",
       "    .dataframe tbody tr th:only-of-type {\n",
       "        vertical-align: middle;\n",
       "    }\n",
       "\n",
       "    .dataframe tbody tr th {\n",
       "        vertical-align: top;\n",
       "    }\n",
       "\n",
       "    .dataframe thead th {\n",
       "        text-align: right;\n",
       "    }\n",
       "</style>\n",
       "<table border=\"1\" class=\"dataframe\">\n",
       "  <thead>\n",
       "    <tr style=\"text-align: right;\">\n",
       "      <th></th>\n",
       "      <th>Property\n",
       "crime</th>\n",
       "      <th>Population</th>\n",
       "      <th>Murder</th>\n",
       "      <th>Robbery2</th>\n",
       "      <th>Larceny-\n",
       "theft</th>\n",
       "    </tr>\n",
       "  </thead>\n",
       "  <tbody>\n",
       "    <tr>\n",
       "      <th>count</th>\n",
       "      <td>344.000</td>\n",
       "      <td>344.000</td>\n",
       "      <td>344.000</td>\n",
       "      <td>344.000</td>\n",
       "      <td>344.000</td>\n",
       "    </tr>\n",
       "    <tr>\n",
       "      <th>mean</th>\n",
       "      <td>316.703</td>\n",
       "      <td>14152.573</td>\n",
       "      <td>0.131</td>\n",
       "      <td>0.224</td>\n",
       "      <td>253.366</td>\n",
       "    </tr>\n",
       "    <tr>\n",
       "      <th>std</th>\n",
       "      <td>602.881</td>\n",
       "      <td>18876.821</td>\n",
       "      <td>0.338</td>\n",
       "      <td>0.417</td>\n",
       "      <td>454.847</td>\n",
       "    </tr>\n",
       "    <tr>\n",
       "      <th>min</th>\n",
       "      <td>0.000</td>\n",
       "      <td>526.000</td>\n",
       "      <td>0.000</td>\n",
       "      <td>0.000</td>\n",
       "      <td>0.000</td>\n",
       "    </tr>\n",
       "    <tr>\n",
       "      <th>25%</th>\n",
       "      <td>39.000</td>\n",
       "      <td>2983.250</td>\n",
       "      <td>0.000</td>\n",
       "      <td>0.000</td>\n",
       "      <td>31.000</td>\n",
       "    </tr>\n",
       "    <tr>\n",
       "      <th>50%</th>\n",
       "      <td>111.500</td>\n",
       "      <td>7106.000</td>\n",
       "      <td>0.000</td>\n",
       "      <td>0.000</td>\n",
       "      <td>93.500</td>\n",
       "    </tr>\n",
       "    <tr>\n",
       "      <th>75%</th>\n",
       "      <td>334.750</td>\n",
       "      <td>17889.250</td>\n",
       "      <td>0.000</td>\n",
       "      <td>0.000</td>\n",
       "      <td>275.500</td>\n",
       "    </tr>\n",
       "    <tr>\n",
       "      <th>max</th>\n",
       "      <td>6473.000</td>\n",
       "      <td>143834.000</td>\n",
       "      <td>1.000</td>\n",
       "      <td>1.000</td>\n",
       "      <td>4298.000</td>\n",
       "    </tr>\n",
       "  </tbody>\n",
       "</table>\n",
       "</div>"
      ],
      "text/plain": [
       "       Property\\ncrime  Population  Murder  Robbery2  Larceny-\\ntheft\n",
       "count          344.000     344.000 344.000   344.000          344.000\n",
       "mean           316.703   14152.573   0.131     0.224          253.366\n",
       "std            602.881   18876.821   0.338     0.417          454.847\n",
       "min              0.000     526.000   0.000     0.000            0.000\n",
       "25%             39.000    2983.250   0.000     0.000           31.000\n",
       "50%            111.500    7106.000   0.000     0.000           93.500\n",
       "75%            334.750   17889.250   0.000     0.000          275.500\n",
       "max           6473.000  143834.000   1.000     1.000         4298.000"
      ]
     },
     "execution_count": 262,
     "metadata": {},
     "output_type": "execute_result"
    }
   ],
   "source": [
    "prop_crime.describe()"
   ]
  },
  {
   "cell_type": "markdown",
   "metadata": {},
   "source": [
    "### There are a few big outliers !\n",
    "We need feature transformation: drop outliers, apply log, cube etc"
   ]
  },
  {
   "cell_type": "code",
   "execution_count": 324,
   "metadata": {},
   "outputs": [
    {
     "data": {
      "image/png": "[encoded data removed]",
      "text/plain": [
       "<matplotlib.figure.Figure at 0x23de89ccba8>"
      ]
     },
     "metadata": {},
     "output_type": "display_data"
    }
   ],
   "source": [
    "plt.hist(prop_crime['Population'],bins=10)\n",
    "plt.show()"
   ]
  },
  {
   "cell_type": "code",
   "execution_count": 264,
   "metadata": {
    "scrolled": true
   },
   "outputs": [
    {
     "data": {
      "text/html": [
       "<div>\n",
       "<style scoped>\n",
       "    .dataframe tbody tr th:only-of-type {\n",
       "        vertical-align: middle;\n",
       "    }\n",
       "\n",
       "    .dataframe tbody tr th {\n",
       "        vertical-align: top;\n",
       "    }\n",
       "\n",
       "    .dataframe thead th {\n",
       "        text-align: right;\n",
       "    }\n",
       "</style>\n",
       "<table border=\"1\" class=\"dataframe\">\n",
       "  <thead>\n",
       "    <tr style=\"text-align: right;\">\n",
       "      <th></th>\n",
       "      <th>Property\n",
       "crime</th>\n",
       "      <th>Population</th>\n",
       "      <th>Murder</th>\n",
       "      <th>Robbery2</th>\n",
       "      <th>Larceny-\n",
       "theft</th>\n",
       "    </tr>\n",
       "  </thead>\n",
       "  <tbody>\n",
       "    <tr>\n",
       "      <th>310</th>\n",
       "      <td>6473</td>\n",
       "      <td>143834</td>\n",
       "      <td>1.000</td>\n",
       "      <td>1</td>\n",
       "      <td>4298</td>\n",
       "    </tr>\n",
       "    <tr>\n",
       "      <th>7</th>\n",
       "      <td>2118</td>\n",
       "      <td>118296</td>\n",
       "      <td>1.000</td>\n",
       "      <td>1</td>\n",
       "      <td>1882</td>\n",
       "    </tr>\n",
       "    <tr>\n",
       "      <th>3</th>\n",
       "      <td>4090</td>\n",
       "      <td>97956</td>\n",
       "      <td>1.000</td>\n",
       "      <td>1</td>\n",
       "      <td>3243</td>\n",
       "    </tr>\n",
       "    <tr>\n",
       "      <th>126</th>\n",
       "      <td>2303</td>\n",
       "      <td>96667</td>\n",
       "      <td>0.000</td>\n",
       "      <td>1</td>\n",
       "      <td>1925</td>\n",
       "    </tr>\n",
       "    <tr>\n",
       "      <th>267</th>\n",
       "      <td>567</td>\n",
       "      <td>87204</td>\n",
       "      <td>1.000</td>\n",
       "      <td>1</td>\n",
       "      <td>466</td>\n",
       "    </tr>\n",
       "  </tbody>\n",
       "</table>\n",
       "</div>"
      ],
      "text/plain": [
       "     Property\\ncrime  Population  Murder  Robbery2  Larceny-\\ntheft\n",
       "310             6473      143834   1.000         1             4298\n",
       "7               2118      118296   1.000         1             1882\n",
       "3               4090       97956   1.000         1             3243\n",
       "126             2303       96667   0.000         1             1925\n",
       "267              567       87204   1.000         1              466"
      ]
     },
     "execution_count": 264,
     "metadata": {},
     "output_type": "execute_result"
    }
   ],
   "source": [
    "# Who are the biggest towns ?\n",
    "prop_crime.sort_values('Population', ascending=False).head(5)"
   ]
  },
  {
   "cell_type": "code",
   "execution_count": 265,
   "metadata": {
    "scrolled": true
   },
   "outputs": [
    {
     "data": {
      "image/png": "[encoded data removed]",
      "text/plain": [
       "<matplotlib.figure.Figure at 0x23de65db6a0>"
      ]
     },
     "metadata": {},
     "output_type": "display_data"
    }
   ],
   "source": [
    "import seaborn as sns\n",
    "\n",
    "sns.distplot( prop_crime[\"Population\"] , color=\"red\", label=\"Population\",bins=6)\n",
    "plt.legend()\n",
    "plt.show()"
   ]
  },
  {
   "cell_type": "code",
   "execution_count": 325,
   "metadata": {},
   "outputs": [
    {
     "data": {
      "image/png": "[encoded data removed]",
      "text/plain": [
       "<matplotlib.figure.Figure at 0x23de8984668>"
      ]
     },
     "metadata": {},
     "output_type": "display_data"
    }
   ],
   "source": [
    "import seaborn as sns\n",
    "\n",
    "sns.distplot( prop_crime22[\"Population\"] , color=\"red\", label=\"Population\",bins=6)\n",
    "plt.legend()\n",
    "plt.show()"
   ]
  },
  {
   "cell_type": "markdown",
   "metadata": {},
   "source": [
    "###  a continuous and a categorical pair:\n",
    "* boxplot"
   ]
  },
  {
   "cell_type": "markdown",
   "metadata": {},
   "source": [
    "### Plot the 3 numerical features with boxplots for each 'Murder' situation."
   ]
  },
  {
   "cell_type": "code",
   "execution_count": 326,
   "metadata": {
    "scrolled": true
   },
   "outputs": [],
   "source": [
    "# Restructure the data so we can use FacetGrid rather than making a boxplot\n",
    "# for each variable separately.\n",
    "\n",
    "df_murder_cols = prop_crime.columns.drop(['Robbery2'])\n",
    "df_murder = prop_crime[df_murder_cols]\n",
    "#df_murder.head(50)"
   ]
  },
  {
   "cell_type": "code",
   "execution_count": 327,
   "metadata": {},
   "outputs": [],
   "source": [
    "# Restructure the data so we can use FacetGrid rather than making a boxplot\n",
    "# for each variable separately.\n",
    "\n",
    "df_murder_cols22 = prop_crime22.columns.drop(['Robbery2'])\n",
    "df_murder22 = prop_crime22[df_murder_cols22]\n",
    "#df_murder.head(50)"
   ]
  },
  {
   "cell_type": "code",
   "execution_count": 328,
   "metadata": {
    "scrolled": true
   },
   "outputs": [],
   "source": [
    "df_murder = pd.melt(df_murder, id_vars=['Murder'])\n",
    "#df_murder\n",
    "#df_murder.variable.value_counts()"
   ]
  },
  {
   "cell_type": "code",
   "execution_count": 329,
   "metadata": {
    "scrolled": true
   },
   "outputs": [
    {
     "name": "stderr",
     "output_type": "stream",
     "text": [
      "C:\\Anaconda3\\lib\\site-packages\\seaborn\\axisgrid.py:703: UserWarning: Using the boxplot function without specifying `order` is likely to produce an incorrect plot.\n",
      "  warnings.warn(warning)\n"
     ]
    },
    {
     "data": {
      "image/png": "[encoded data removed]",
      "text/plain": [
       "<matplotlib.figure.Figure at 0x23de6f82f98>"
      ]
     },
     "metadata": {},
     "output_type": "display_data"
    }
   ],
   "source": [
    "g = sns.FacetGrid(df_murder, col=\"variable\", size=4, aspect=.5)\n",
    "g = g.map(sns.boxplot, \"Murder\", \"value\")\n",
    "plt.show()"
   ]
  },
  {
   "cell_type": "markdown",
   "metadata": {},
   "source": [
    "* Because the three columns haven't been normalized, this plot is not yet relevant.\n",
    "\n",
    "We'll do this step soon."
   ]
  },
  {
   "cell_type": "code",
   "execution_count": null,
   "metadata": {},
   "outputs": [],
   "source": []
  },
  {
   "cell_type": "code",
   "execution_count": 330,
   "metadata": {
    "scrolled": false
   },
   "outputs": [
    {
     "data": {
      "image/png": "[encoded data removed]",
      "text/plain": [
       "<matplotlib.figure.Figure at 0x23de64fe7b8>"
      ]
     },
     "metadata": {},
     "output_type": "display_data"
    }
   ],
   "source": [
    "# Plot histograms to see what kind of distribution there is in each column:\n",
    "\n",
    "fig = prop_crime.hist(bins=10,\n",
    "                 color='steelblue',\n",
    "                 edgecolor='black', linewidth=1.0,\n",
    "                 xlabelsize=10, ylabelsize=10,\n",
    "                 xrot=45, yrot=0,\n",
    "                 figsize=(5,5),\n",
    "                 grid=False)\n",
    "\n",
    "plt.tight_layout(rect=(0, 0, 1.5, 1.5))   "
   ]
  },
  {
   "cell_type": "markdown",
   "metadata": {},
   "source": [
    "* For numerical columns: they are skewed to the right.\n",
    "\n",
    "Categorigal columns don't have any interpretation."
   ]
  },
  {
   "cell_type": "markdown",
   "metadata": {},
   "source": [
    "### Create the default pairplot for numerical columns to better see how data is groupping:"
   ]
  },
  {
   "cell_type": "code",
   "execution_count": 331,
   "metadata": {},
   "outputs": [
    {
     "data": {
      "image/png": "[encoded data removed]",
      "text/plain": [
       "<matplotlib.figure.Figure at 0x23de6700c18>"
      ]
     },
     "metadata": {},
     "output_type": "display_data"
    }
   ],
   "source": [
    "g=sns.pairplot(prop_crime.fillna(0) , diag_kind='hist' , kind='reg' )\n",
    "plt.show()"
   ]
  },
  {
   "cell_type": "markdown",
   "metadata": {},
   "source": [
    "### The histograms show no normal distribution. We should apply <u>feature transformations</u> on both numerical and categorical columns!"
   ]
  },
  {
   "cell_type": "code",
   "execution_count": null,
   "metadata": {},
   "outputs": [],
   "source": []
  },
  {
   "cell_type": "markdown",
   "metadata": {},
   "source": [
    "* The two categorical columns, Robbery and Murder, can be transformed into numeric representations with `getdummies`"
   ]
  },
  {
   "cell_type": "code",
   "execution_count": 332,
   "metadata": {
    "scrolled": false
   },
   "outputs": [
    {
     "data": {
      "text/html": [
       "<div>\n",
       "<style scoped>\n",
       "    .dataframe tbody tr th:only-of-type {\n",
       "        vertical-align: middle;\n",
       "    }\n",
       "\n",
       "    .dataframe tbody tr th {\n",
       "        vertical-align: top;\n",
       "    }\n",
       "\n",
       "    .dataframe thead th {\n",
       "        text-align: right;\n",
       "    }\n",
       "</style>\n",
       "<table border=\"1\" class=\"dataframe\">\n",
       "  <thead>\n",
       "    <tr style=\"text-align: right;\">\n",
       "      <th></th>\n",
       "      <th>Murder_False</th>\n",
       "      <th>Murder_True</th>\n",
       "      <th>Robbery_False</th>\n",
       "      <th>Robbery_True</th>\n",
       "    </tr>\n",
       "  </thead>\n",
       "  <tbody>\n",
       "    <tr>\n",
       "      <th>310</th>\n",
       "      <td>0</td>\n",
       "      <td>1</td>\n",
       "      <td>0</td>\n",
       "      <td>1</td>\n",
       "    </tr>\n",
       "    <tr>\n",
       "      <th>7</th>\n",
       "      <td>0</td>\n",
       "      <td>1</td>\n",
       "      <td>0</td>\n",
       "      <td>1</td>\n",
       "    </tr>\n",
       "    <tr>\n",
       "      <th>3</th>\n",
       "      <td>0</td>\n",
       "      <td>1</td>\n",
       "      <td>0</td>\n",
       "      <td>1</td>\n",
       "    </tr>\n",
       "    <tr>\n",
       "      <th>126</th>\n",
       "      <td>1</td>\n",
       "      <td>0</td>\n",
       "      <td>0</td>\n",
       "      <td>1</td>\n",
       "    </tr>\n",
       "    <tr>\n",
       "      <th>267</th>\n",
       "      <td>0</td>\n",
       "      <td>1</td>\n",
       "      <td>0</td>\n",
       "      <td>1</td>\n",
       "    </tr>\n",
       "  </tbody>\n",
       "</table>\n",
       "</div>"
      ],
      "text/plain": [
       "     Murder_False  Murder_True  Robbery_False  Robbery_True\n",
       "310             0            1              0             1\n",
       "7               0            1              0             1\n",
       "3               0            1              0             1\n",
       "126             1            0              0             1\n",
       "267             0            1              0             1"
      ]
     },
     "execution_count": 332,
     "metadata": {},
     "output_type": "execute_result"
    }
   ],
   "source": [
    "# Making dummies.\n",
    "# Also creating a data frame to hold our features.\n",
    "features1 = pd.get_dummies(prop_crime['Murder'])\n",
    "features1.columns=['Murder_False','Murder_True']\n",
    "\n",
    "features2 = pd.get_dummies(prop_crime['Robbery2'])\n",
    "features2.columns=['Robbery_False','Robbery_True']\n",
    "features = pd.concat((features1 , features2),axis=1)\n",
    "features.head()"
   ]
  },
  {
   "cell_type": "code",
   "execution_count": 333,
   "metadata": {},
   "outputs": [
    {
     "data": {
      "text/html": [
       "<div>\n",
       "<style scoped>\n",
       "    .dataframe tbody tr th:only-of-type {\n",
       "        vertical-align: middle;\n",
       "    }\n",
       "\n",
       "    .dataframe tbody tr th {\n",
       "        vertical-align: top;\n",
       "    }\n",
       "\n",
       "    .dataframe thead th {\n",
       "        text-align: right;\n",
       "    }\n",
       "</style>\n",
       "<table border=\"1\" class=\"dataframe\">\n",
       "  <thead>\n",
       "    <tr style=\"text-align: right;\">\n",
       "      <th></th>\n",
       "      <th>Murder_False</th>\n",
       "      <th>Murder_True</th>\n",
       "      <th>Robbery_False</th>\n",
       "      <th>Robbery_True</th>\n",
       "    </tr>\n",
       "  </thead>\n",
       "  <tbody>\n",
       "    <tr>\n",
       "      <th>326</th>\n",
       "      <td>0</td>\n",
       "      <td>1</td>\n",
       "      <td>0</td>\n",
       "      <td>1</td>\n",
       "    </tr>\n",
       "    <tr>\n",
       "      <th>9</th>\n",
       "      <td>0</td>\n",
       "      <td>1</td>\n",
       "      <td>0</td>\n",
       "      <td>1</td>\n",
       "    </tr>\n",
       "    <tr>\n",
       "      <th>4</th>\n",
       "      <td>0</td>\n",
       "      <td>1</td>\n",
       "      <td>0</td>\n",
       "      <td>1</td>\n",
       "    </tr>\n",
       "    <tr>\n",
       "      <th>130</th>\n",
       "      <td>0</td>\n",
       "      <td>1</td>\n",
       "      <td>0</td>\n",
       "      <td>1</td>\n",
       "    </tr>\n",
       "    <tr>\n",
       "      <th>279</th>\n",
       "      <td>1</td>\n",
       "      <td>0</td>\n",
       "      <td>0</td>\n",
       "      <td>1</td>\n",
       "    </tr>\n",
       "  </tbody>\n",
       "</table>\n",
       "</div>"
      ],
      "text/plain": [
       "     Murder_False  Murder_True  Robbery_False  Robbery_True\n",
       "326             0            1              0             1\n",
       "9               0            1              0             1\n",
       "4               0            1              0             1\n",
       "130             0            1              0             1\n",
       "279             1            0              0             1"
      ]
     },
     "execution_count": 333,
     "metadata": {},
     "output_type": "execute_result"
    }
   ],
   "source": [
    "# Making dummies.\n",
    "# Also creating a data frame to hold our features.\n",
    "features12 = pd.get_dummies(prop_crime22['Murder'])\n",
    "features12.columns=['Murder_False','Murder_True']\n",
    "\n",
    "features22 = pd.get_dummies(prop_crime22['Robbery2'])\n",
    "features22.columns=['Robbery_False','Robbery_True']\n",
    "features2014 = pd.concat((features12 , features22),axis=1)\n",
    "features2014.head()"
   ]
  },
  {
   "cell_type": "code",
   "execution_count": 334,
   "metadata": {},
   "outputs": [],
   "source": [
    "prop_crime2 =  pd.concat((prop_crime , features),axis=1)\n",
    "prop_crime2 = prop_crime2.drop(['Murder','Robbery2'],1)"
   ]
  },
  {
   "cell_type": "code",
   "execution_count": 335,
   "metadata": {},
   "outputs": [],
   "source": [
    "prop_crime2014 =  pd.concat((prop_crime22 , features2014),axis=1)\n",
    "prop_crime2014 = prop_crime2014.drop(['Murder','Robbery2'],1)"
   ]
  },
  {
   "cell_type": "markdown",
   "metadata": {},
   "source": [
    "### Logarithm: \n",
    "Log of a variable is a common transformation method used to change the shape of distribution of the variable on a distribution plot. It is generally used for reducing right skewness of variables. Though, It can’t be applied to <b><u>zero</u></b> or negative values as well."
   ]
  },
  {
   "cell_type": "markdown",
   "metadata": {},
   "source": [
    "### From the three numerical columns, only 'Property crime' could have zero values, b/c the population can't be zero!"
   ]
  },
  {
   "cell_type": "code",
   "execution_count": 336,
   "metadata": {
    "scrolled": true
   },
   "outputs": [
    {
     "name": "stdout",
     "output_type": "stream",
     "text": [
      "     Property\\ncrime  Population  Larceny-\\ntheft  Murder_False  Murder_True  \\\n",
      "186                0        1688                0             1            0   \n",
      "208                0        1622                0             1            0   \n",
      "295                0        1437                0             1            0   \n",
      "256                0        1274                0             1            0   \n",
      "287                0         872                0             1            0   \n",
      "319                0         615                0             1            0   \n",
      "\n",
      "     Robbery_False  Robbery_True  \n",
      "186              1             0  \n",
      "208              1             0  \n",
      "295              1             0  \n",
      "256              1             0  \n",
      "287              1             0  \n",
      "319              1             0  \n"
     ]
    }
   ],
   "source": [
    "\n",
    "print(prop_crime2[prop_crime2['Property\\ncrime']<=0])\n"
   ]
  },
  {
   "cell_type": "code",
   "execution_count": 337,
   "metadata": {
    "scrolled": true
   },
   "outputs": [
    {
     "name": "stdout",
     "output_type": "stream",
     "text": [
      "     Property\\ncrime  Population  Larceny-\\ntheft  Murder_False  Murder_True  \\\n",
      "10             0.000        2250            0.000             1            0   \n",
      "308            0.000        1429            0.000             1            0   \n",
      "169            0.000        1178            0.000             1            0   \n",
      "238            0.000        1084            0.000             1            0   \n",
      "301            0.000         857            0.000             1            0   \n",
      "335            0.000         612            0.000             1            0   \n",
      "\n",
      "     Robbery_False  Robbery_True  \n",
      "10               1             0  \n",
      "308              1             0  \n",
      "169              1             0  \n",
      "238              1             0  \n",
      "301              1             0  \n",
      "335              1             0  \n"
     ]
    }
   ],
   "source": [
    "\n",
    "print(prop_crime2014[prop_crime2014['Property\\ncrime']<=0])\n"
   ]
  },
  {
   "cell_type": "markdown",
   "metadata": {},
   "source": [
    "### >> we can drop these ZERO lines b/c population is very small and probably won't influence the analysis too much!"
   ]
  },
  {
   "cell_type": "code",
   "execution_count": 338,
   "metadata": {},
   "outputs": [],
   "source": [
    "prop_crime2.is_copy = False # to deal with 'SettingWithCopyWarning'.\n",
    "prop_crime2.drop(prop_crime2[prop_crime2['Property\\ncrime']<=0].index , inplace=True)"
   ]
  },
  {
   "cell_type": "code",
   "execution_count": 339,
   "metadata": {},
   "outputs": [],
   "source": [
    "prop_crime2014.is_copy = False # to deal with 'SettingWithCopyWarning'.\n",
    "prop_crime2014.drop(prop_crime2014[prop_crime2014['Property\\ncrime']<=0].index , inplace=True)"
   ]
  },
  {
   "cell_type": "code",
   "execution_count": 281,
   "metadata": {},
   "outputs": [
    {
     "data": {
      "text/plain": [
       "Index(['Property\\ncrime', 'Population', 'Larceny-\\ntheft', 'Murder_False',\n",
       "       'Murder_True', 'Robbery_False', 'Robbery_True'],\n",
       "      dtype='object')"
      ]
     },
     "execution_count": 281,
     "metadata": {},
     "output_type": "execute_result"
    }
   ],
   "source": [
    "prop_crime2.columns"
   ]
  },
  {
   "cell_type": "code",
   "execution_count": 340,
   "metadata": {
    "scrolled": true
   },
   "outputs": [
    {
     "data": {
      "text/html": [
       "<div>\n",
       "<style scoped>\n",
       "    .dataframe tbody tr th:only-of-type {\n",
       "        vertical-align: middle;\n",
       "    }\n",
       "\n",
       "    .dataframe tbody tr th {\n",
       "        vertical-align: top;\n",
       "    }\n",
       "\n",
       "    .dataframe thead th {\n",
       "        text-align: right;\n",
       "    }\n",
       "</style>\n",
       "<table border=\"1\" class=\"dataframe\">\n",
       "  <thead>\n",
       "    <tr style=\"text-align: right;\">\n",
       "      <th></th>\n",
       "      <th>Property\n",
       "crime</th>\n",
       "      <th>Population</th>\n",
       "      <th>Larceny-\n",
       "theft</th>\n",
       "    </tr>\n",
       "  </thead>\n",
       "  <tbody>\n",
       "    <tr>\n",
       "      <th>128</th>\n",
       "      <td>0.000</td>\n",
       "      <td>7.348</td>\n",
       "      <td>-inf</td>\n",
       "    </tr>\n",
       "    <tr>\n",
       "      <th>227</th>\n",
       "      <td>0.000</td>\n",
       "      <td>7.000</td>\n",
       "      <td>0.000</td>\n",
       "    </tr>\n",
       "    <tr>\n",
       "      <th>95</th>\n",
       "      <td>0.000</td>\n",
       "      <td>8.691</td>\n",
       "      <td>0.000</td>\n",
       "    </tr>\n",
       "    <tr>\n",
       "      <th>12</th>\n",
       "      <td>0.693</td>\n",
       "      <td>6.489</td>\n",
       "      <td>0.693</td>\n",
       "    </tr>\n",
       "    <tr>\n",
       "      <th>44</th>\n",
       "      <td>0.693</td>\n",
       "      <td>6.636</td>\n",
       "      <td>0.693</td>\n",
       "    </tr>\n",
       "  </tbody>\n",
       "</table>\n",
       "</div>"
      ],
      "text/plain": [
       "     Property\\ncrime  Population  Larceny-\\ntheft\n",
       "128            0.000       7.348             -inf\n",
       "227            0.000       7.000            0.000\n",
       "95             0.000       8.691            0.000\n",
       "12             0.693       6.489            0.693\n",
       "44             0.693       6.636            0.693"
      ]
     },
     "execution_count": 340,
     "metadata": {},
     "output_type": "execute_result"
    }
   ],
   "source": [
    "prop_crime_log = prop_crime2[['Property\\ncrime','Population','Larceny-\\ntheft']].apply(np.log)\n",
    "prop_crime_log.sort_values(by='Larceny-\\ntheft').head(5)"
   ]
  },
  {
   "cell_type": "code",
   "execution_count": 341,
   "metadata": {},
   "outputs": [
    {
     "data": {
      "text/html": [
       "<div>\n",
       "<style scoped>\n",
       "    .dataframe tbody tr th:only-of-type {\n",
       "        vertical-align: middle;\n",
       "    }\n",
       "\n",
       "    .dataframe tbody tr th {\n",
       "        vertical-align: top;\n",
       "    }\n",
       "\n",
       "    .dataframe thead th {\n",
       "        text-align: right;\n",
       "    }\n",
       "</style>\n",
       "<table border=\"1\" class=\"dataframe\">\n",
       "  <thead>\n",
       "    <tr style=\"text-align: right;\">\n",
       "      <th></th>\n",
       "      <th>Property\n",
       "crime</th>\n",
       "      <th>Population</th>\n",
       "      <th>Larceny-\n",
       "theft</th>\n",
       "    </tr>\n",
       "  </thead>\n",
       "  <tbody>\n",
       "    <tr>\n",
       "      <th>323</th>\n",
       "      <td>0.000</td>\n",
       "      <td>7.917</td>\n",
       "      <td>-inf</td>\n",
       "    </tr>\n",
       "    <tr>\n",
       "      <th>8</th>\n",
       "      <td>0.693</td>\n",
       "      <td>7.452</td>\n",
       "      <td>-inf</td>\n",
       "    </tr>\n",
       "    <tr>\n",
       "      <th>197</th>\n",
       "      <td>0.000</td>\n",
       "      <td>7.421</td>\n",
       "      <td>-inf</td>\n",
       "    </tr>\n",
       "    <tr>\n",
       "      <th>291</th>\n",
       "      <td>0.000</td>\n",
       "      <td>7.320</td>\n",
       "      <td>-inf</td>\n",
       "    </tr>\n",
       "    <tr>\n",
       "      <th>121</th>\n",
       "      <td>1.099</td>\n",
       "      <td>7.557</td>\n",
       "      <td>0.000</td>\n",
       "    </tr>\n",
       "  </tbody>\n",
       "</table>\n",
       "</div>"
      ],
      "text/plain": [
       "     Property\\ncrime  Population  Larceny-\\ntheft\n",
       "323            0.000       7.917             -inf\n",
       "8              0.693       7.452             -inf\n",
       "197            0.000       7.421             -inf\n",
       "291            0.000       7.320             -inf\n",
       "121            1.099       7.557            0.000"
      ]
     },
     "execution_count": 341,
     "metadata": {},
     "output_type": "execute_result"
    }
   ],
   "source": [
    "prop_crime_log2014 = prop_crime2014[['Property\\ncrime','Population','Larceny-\\ntheft']].apply(np.log)\n",
    "prop_crime_log2014.sort_values(by='Larceny-\\ntheft').head(5)"
   ]
  },
  {
   "cell_type": "code",
   "execution_count": 342,
   "metadata": {},
   "outputs": [],
   "source": [
    "prop_crime_log['Larceny-\\ntheft'].replace(-np.inf, 0, inplace=True)"
   ]
  },
  {
   "cell_type": "code",
   "execution_count": 343,
   "metadata": {},
   "outputs": [],
   "source": [
    "prop_crime_log2014['Larceny-\\ntheft'].replace(-np.inf, 0, inplace=True)"
   ]
  },
  {
   "cell_type": "code",
   "execution_count": 344,
   "metadata": {
    "scrolled": true
   },
   "outputs": [],
   "source": [
    "prop_crime_log2014=prop_crime_log2014.fillna(0)"
   ]
  },
  {
   "cell_type": "code",
   "execution_count": 345,
   "metadata": {
    "scrolled": false
   },
   "outputs": [
    {
     "data": {
      "image/png": "[encoded data removed]",
      "text/plain": [
       "<matplotlib.figure.Figure at 0x23de6dcce10>"
      ]
     },
     "metadata": {},
     "output_type": "display_data"
    }
   ],
   "source": [
    "g=sns.pairplot(prop_crime_log, diag_kind='kde' , kind='reg'\n",
    "               #, plot_kws=dict(edgecolor=\"k\", linewidth=0.5)\n",
    "               , diag_kws=dict(shade=True)\n",
    "              )\n",
    "plt.show()"
   ]
  },
  {
   "cell_type": "code",
   "execution_count": 346,
   "metadata": {},
   "outputs": [
    {
     "data": {
      "image/png": "[encoded data removed]",
      "text/plain": [
       "<matplotlib.figure.Figure at 0x23de89826a0>"
      ]
     },
     "metadata": {},
     "output_type": "display_data"
    }
   ],
   "source": [
    "g=sns.pairplot(prop_crime_log2014, diag_kind='kde' , kind='reg'\n",
    "               #, plot_kws=dict(edgecolor=\"k\", linewidth=0.5)\n",
    "               , diag_kws=dict(shade=True)\n",
    "              )\n",
    "plt.show()"
   ]
  },
  {
   "cell_type": "markdown",
   "metadata": {},
   "source": [
    "### Now the histograms look more <u>normal</u> and the scatter plots are more linearly oriented!"
   ]
  },
  {
   "cell_type": "code",
   "execution_count": 347,
   "metadata": {},
   "outputs": [
    {
     "data": {
      "image/png": "[encoded data removed]",
      "text/plain": [
       "<matplotlib.figure.Figure at 0x23de854f860>"
      ]
     },
     "metadata": {},
     "output_type": "display_data"
    }
   ],
   "source": [
    "sns.boxplot( data = prop_crime_log )\n",
    "plt.show()"
   ]
  },
  {
   "cell_type": "markdown",
   "metadata": {},
   "source": [
    "###  StandardScaler or MinMaxScaler.\n",
    "\n",
    "Also these scalers are good for normal data.\n",
    "\n",
    "When we want to change the scale of a variable or standardize the values of a variable for better understanding. While this transformation is a must if you have data in different scales, this transformation <u>does not change the shape</u> of the variable distribution"
   ]
  },
  {
   "cell_type": "code",
   "execution_count": 348,
   "metadata": {
    "scrolled": true
   },
   "outputs": [
    {
     "data": {
      "image/png": "[encoded data removed]",
      "text/plain": [
       "<matplotlib.figure.Figure at 0x23de701c5f8>"
      ]
     },
     "metadata": {},
     "output_type": "display_data"
    }
   ],
   "source": [
    "import pandas as pd\n",
    "from sklearn.preprocessing import RobustScaler,StandardScaler,MinMaxScaler,quantile_transform\n",
    "scaler = MinMaxScaler()\n",
    "\n",
    "b_fit_scaled = scaler.fit_transform(prop_crime_log)\n",
    "\n",
    "index = ['Row'+str(i) for i in range(1, len(b_fit_scaled)+1)]\n",
    "df_fit_scaled = pd.DataFrame(b_fit_scaled, index=prop_crime_log.index , columns = prop_crime_log.columns )\n",
    "\n",
    "sns.boxplot( data = df_fit_scaled )\n",
    "plt.show()"
   ]
  },
  {
   "cell_type": "code",
   "execution_count": 349,
   "metadata": {},
   "outputs": [
    {
     "data": {
      "image/png": "[encoded data removed]",
      "text/plain": [
       "<matplotlib.figure.Figure at 0x23de6813438>"
      ]
     },
     "metadata": {},
     "output_type": "display_data"
    }
   ],
   "source": [
    "import pandas as pd\n",
    "from sklearn.preprocessing import RobustScaler,StandardScaler,MinMaxScaler,quantile_transform\n",
    "scaler = MinMaxScaler()\n",
    "\n",
    "b_fit_scaled2014 = scaler.fit_transform(prop_crime_log2014)\n",
    "\n",
    "index = ['Row'+str(i) for i in range(1, len(b_fit_scaled2014)+1)]\n",
    "df_fit_scaled2014 = pd.DataFrame(b_fit_scaled2014, index=prop_crime_log2014.index \n",
    "                                , columns = prop_crime_log2014.columns )\n",
    "\n",
    "sns.boxplot( data = df_fit_scaled2014 )\n",
    "plt.show()"
   ]
  },
  {
   "cell_type": "markdown",
   "metadata": {},
   "source": [
    "\n",
    "### Already have dropped values in \"Population\" that are outliers (more than 3 stdev from the mean)\n"
   ]
  },
  {
   "cell_type": "markdown",
   "metadata": {},
   "source": [
    "### Create a correlation matrix between continuous variables:"
   ]
  },
  {
   "cell_type": "code",
   "execution_count": 350,
   "metadata": {
    "scrolled": false
   },
   "outputs": [
    {
     "name": "stdout",
     "output_type": "stream",
     "text": [
      "                 Property\\ncrime  Population  Larceny-\\ntheft  Murder_False  \\\n",
      "Property\\ncrime            1.000       0.863            0.992        -0.488   \n",
      "Population                 0.863       1.000            0.881        -0.496   \n",
      "Larceny-\\ntheft            0.992       0.881            1.000        -0.483   \n",
      "Murder_False              -0.488      -0.496           -0.483         1.000   \n",
      "Murder_True                0.488       0.496            0.483        -1.000   \n",
      "Robbery_False             -0.601      -0.652           -0.619         0.514   \n",
      "Robbery_True               0.601       0.652            0.619        -0.514   \n",
      "\n",
      "                 Murder_True  Robbery_False  Robbery_True  \n",
      "Property\\ncrime        0.488         -0.601         0.601  \n",
      "Population             0.496         -0.652         0.652  \n",
      "Larceny-\\ntheft        0.483         -0.619         0.619  \n",
      "Murder_False          -1.000          0.514        -0.514  \n",
      "Murder_True            1.000         -0.514         0.514  \n",
      "Robbery_False         -0.514          1.000        -1.000  \n",
      "Robbery_True           0.514         -1.000         1.000  \n"
     ]
    },
    {
     "data": {
      "image/png": "[encoded data removed]",
      "text/plain": [
       "<matplotlib.figure.Figure at 0x23de8bbf198>"
      ]
     },
     "metadata": {},
     "output_type": "display_data"
    }
   ],
   "source": [
    "corrmat = prop_crime2.corr()\n",
    "print(corrmat)\n",
    "\n",
    "# Set up the matplotlib figure.\n",
    "f, ax = plt.subplots(figsize=(12, 9))\n",
    "\n",
    "# Draw the heatmap using seaborn\n",
    "sns.heatmap(corrmat, vmax=.8, square=True)\n",
    "plt.show()"
   ]
  },
  {
   "cell_type": "code",
   "execution_count": 351,
   "metadata": {},
   "outputs": [
    {
     "name": "stdout",
     "output_type": "stream",
     "text": [
      "                 Property\\ncrime  Population  Larceny-\\ntheft  Murder_False  \\\n",
      "Property\\ncrime            1.000       0.865            0.993        -0.576   \n",
      "Population                 0.865       1.000            0.877        -0.574   \n",
      "Larceny-\\ntheft            0.993       0.877            1.000        -0.574   \n",
      "Murder_False              -0.576      -0.574           -0.574         1.000   \n",
      "Murder_True                0.576       0.574            0.574        -1.000   \n",
      "Robbery_False             -0.620      -0.668           -0.634         0.552   \n",
      "Robbery_True               0.620       0.668            0.634        -0.552   \n",
      "\n",
      "                 Murder_True  Robbery_False  Robbery_True  \n",
      "Property\\ncrime        0.576         -0.620         0.620  \n",
      "Population             0.574         -0.668         0.668  \n",
      "Larceny-\\ntheft        0.574         -0.634         0.634  \n",
      "Murder_False          -1.000          0.552        -0.552  \n",
      "Murder_True            1.000         -0.552         0.552  \n",
      "Robbery_False         -0.552          1.000        -1.000  \n",
      "Robbery_True           0.552         -1.000         1.000  \n"
     ]
    },
    {
     "data": {
      "image/png": "[encoded data removed]",
      "text/plain": [
       "<matplotlib.figure.Figure at 0x23de8df3b38>"
      ]
     },
     "metadata": {},
     "output_type": "display_data"
    }
   ],
   "source": [
    "corrmat2014 = prop_crime2014.corr()\n",
    "print(corrmat2014)\n",
    "\n",
    "# Set up the matplotlib figure.\n",
    "f, ax = plt.subplots(figsize=(12, 9))\n",
    "\n",
    "# Draw the heatmap using seaborn\n",
    "sns.heatmap(corrmat2014, vmax=.8, square=True)\n",
    "plt.show()"
   ]
  },
  {
   "cell_type": "markdown",
   "metadata": {},
   "source": [
    "* It looks like there is a lot of correlation. Population and population_squared are redundant."
   ]
  },
  {
   "cell_type": "code",
   "execution_count": 376,
   "metadata": {
    "scrolled": false
   },
   "outputs": [
    {
     "data": {
      "text/plain": [
       "Index(['Population', 'Larceny-\\ntheft', 'Murder_False', 'Murder_True',\n",
       "       'Robbery_False', 'Robbery_True'],\n",
       "      dtype='object')"
      ]
     },
     "execution_count": 376,
     "metadata": {},
     "output_type": "execute_result"
    }
   ],
   "source": [
    "X_cols = prop_crime2.columns.drop(['Property\\ncrime' ])\n",
    "X_cols"
   ]
  },
  {
   "cell_type": "code",
   "execution_count": 353,
   "metadata": {},
   "outputs": [
    {
     "data": {
      "text/plain": [
       "Index(['Population', 'Larceny-\\ntheft', 'Murder_False', 'Murder_True',\n",
       "       'Robbery_False', 'Robbery_True'],\n",
       "      dtype='object')"
      ]
     },
     "execution_count": 353,
     "metadata": {},
     "output_type": "execute_result"
    }
   ],
   "source": [
    "X_cols2014 = prop_crime2014.columns.drop(['Property\\ncrime' ])\n",
    "X_cols2014"
   ]
  },
  {
   "cell_type": "code",
   "execution_count": 354,
   "metadata": {},
   "outputs": [
    {
     "name": "stdout",
     "output_type": "stream",
     "text": [
      "\n",
      "Coefficients: \n",
      " [[-1.43956980e-03  1.37080757e+00 -2.04073446e+01  2.04073446e+01\n",
      "   1.55091182e+01 -1.55091182e+01]]\n",
      "\n",
      "Intercept: \n",
      " [-3.92244605]\n",
      "\n",
      "R-squared:\n",
      "0.9850619370775062\n"
     ]
    }
   ],
   "source": [
    "# Instantiate and fit our model.\n",
    "regr = linear_model.LinearRegression()\n",
    "Y = prop_crime2['Property\\ncrime'].values.reshape(-1, 1)\n",
    "X = prop_crime2[X_cols]\n",
    "regr.fit(X, Y)\n",
    "\n",
    "# Inspect the results.\n",
    "print('\\nCoefficients: \\n', regr.coef_)\n",
    "print('\\nIntercept: \\n', regr.intercept_)\n",
    "print('\\nR-squared:')\n",
    "print(regr.score(X, Y))"
   ]
  },
  {
   "cell_type": "code",
   "execution_count": 355,
   "metadata": {},
   "outputs": [],
   "source": [
    "prop_crime2014=prop_crime2014.fillna(0)\n",
    "\n",
    "Y2014 = prop_crime2014['Property\\ncrime'].values.reshape(-1, 1)\n",
    "X2014 = prop_crime2014[X_cols2014]"
   ]
  },
  {
   "cell_type": "code",
   "execution_count": 356,
   "metadata": {},
   "outputs": [
    {
     "name": "stdout",
     "output_type": "stream",
     "text": [
      "With 20% Holdout: 0.9738825883460259\n",
      "Testing on Sample: 0.9850619370775062\n"
     ]
    }
   ],
   "source": [
    "# Test your model with different holdout groups.\n",
    "# https://courses.thinkful.com/data-201v1/assignment/2.3.3\n",
    "\n",
    "from sklearn.model_selection import train_test_split\n",
    "# Use train_test_split to create the necessary training and test groups\n",
    "X_train, X_test, y_train, y_test = train_test_split(X, Y, test_size=0.2, random_state=20)\n",
    "print('With 20% Holdout: ' + str(regr.fit(X_train, y_train).score(X_test, y_test)))\n",
    "print('Testing on Sample: ' + str(regr.fit(X, Y).score(X, Y)))"
   ]
  },
  {
   "cell_type": "markdown",
   "metadata": {},
   "source": [
    "### Test your model with 2014 FBI data."
   ]
  },
  {
   "cell_type": "code",
   "execution_count": 357,
   "metadata": {},
   "outputs": [
    {
     "name": "stdout",
     "output_type": "stream",
     "text": [
      "With FBI 2014 data: 0.9858796025368234\n"
     ]
    }
   ],
   "source": [
    "# Test your model with 2014 FBI data.\n",
    "# https://courses.thinkful.com/data-201v1/assignment/2.3.3\n",
    "\n",
    "from sklearn.model_selection import train_test_split\n",
    "# Use train_test_split to create the necessary training and test groups\n",
    "X_train, X_test, y_train, y_test = train_test_split(X, Y, test_size=0.01, random_state=20)\n",
    "# print('With 20% data: ' + str(regr.fit(X_train, y_train).score(X_test, y_test)))\n",
    "\n",
    "print('With FBI 2014 data: ' + str(regr.fit(X_train, y_train).score(X2014, Y2014)))\n"
   ]
  },
  {
   "cell_type": "markdown",
   "metadata": {},
   "source": [
    "### Cross Validation:"
   ]
  },
  {
   "cell_type": "code",
   "execution_count": 358,
   "metadata": {},
   "outputs": [
    {
     "data": {
      "text/plain": [
       "array([0.94151309, 0.95638618, 0.92918849, 0.9173834 , 0.92770792,\n",
       "       0.85282838, 0.94177733, 0.89232535, 0.93941097, 0.5238654 ])"
      ]
     },
     "execution_count": 358,
     "metadata": {},
     "output_type": "execute_result"
    }
   ],
   "source": [
    "from sklearn.model_selection import cross_val_score\n",
    "cross_val_score(regr, X, Y, cv=10)"
   ]
  },
  {
   "cell_type": "markdown",
   "metadata": {},
   "source": [
    "* It seems there is some overfitting in the data due to the disparate value of '0.5238654 '"
   ]
  },
  {
   "cell_type": "code",
   "execution_count": 359,
   "metadata": {},
   "outputs": [],
   "source": [
    "y_pred = regr.fit(X,Y).predict(X)"
   ]
  },
  {
   "cell_type": "code",
   "execution_count": null,
   "metadata": {},
   "outputs": [],
   "source": []
  },
  {
   "cell_type": "markdown",
   "metadata": {},
   "source": [
    "### What is Principal Components Analysis (PCA)?\n",
    "PCA is a complexity-reduction technique that tries to reduce a set of variables down to a smaller set of components that represent most of the information in the variables. At a conceptual level, PCA works by identifying sets of variables that share variance, and creating a component to represent that variance.\n",
    "\n",
    "### PCA works best for normally-distributed data \n",
    "PCA works best for normally-distributed data and assumes the relationships among variables are linear. \n",
    "\n",
    "PCA also works best when the variables involved range from weakly correlated to moderately strongly correlated. Correlations of 0, or correlations greater than .7 or .8, create problems. Correlations near 0 mean there is no shared information. \n",
    "\n",
    "### Correlations that are too high can result in components that are unstable \n",
    "and change a lot in response to very small changes in the data, or components that are made up of variance from only one or two variables. \n",
    "* <i>A few very high or very low correlations are fine.</i>"
   ]
  },
  {
   "cell_type": "markdown",
   "metadata": {},
   "source": [
    "### Eigenvalues\n",
    "Eigenvalues represent the length of the Eigenvectors – each eigenvector has an eigenvalue. \n",
    "\n",
    ">The length of the eigenvector encodes the proportion of total variance explained by a component. \n",
    "\n",
    "The total variance is equal to the number of variables in the PCA. Thus, an Eigenvalue of 1 means that the component explains the same amount of variance as one variable. An eigenvalue greater than 1 is desirable, since a component with an eigenvalue of 1 adds no value beyond the information contained in any individual variable, and an eigenvalue of less than 1 is actually less efficient at conveying information than a variable by itself. An eigenvalue of 2 means that the component contains an amount of information equal to that of two variables. Of course, it doesn’t mean that only two variables load on that component."
   ]
  },
  {
   "cell_type": "code",
   "execution_count": 381,
   "metadata": {},
   "outputs": [],
   "source": [
    "# Take a subset of the data for PCA and drop missing values because PCA cannot\n",
    "# handle them. We could also impute, but missingness is quite low so dropping\n",
    "# missing rows is unlikely to create bias.\n",
    "df_pca = prop_crime2.drop(['Property\\ncrime' ], axis=1)\n",
    "\n",
    "# Normalize the data so that all variables have a mean of 0 and standard deviation\n",
    "# of 1.\n",
    "X_pca = StandardScaler().fit_transform(df_pca)"
   ]
  },
  {
   "cell_type": "code",
   "execution_count": 391,
   "metadata": {
    "scrolled": true
   },
   "outputs": [
    {
     "name": "stdout",
     "output_type": "stream",
     "text": [
      "The percentage of total variance in the dataset explained by each component from Sklearn PCA.\n",
      " [6.91617747e-01 1.77169836e-01 1.11587436e-01 1.96249810e-02\n",
      " 9.29091933e-33 1.65347049e-34]\n"
     ]
    }
   ],
   "source": [
    "sklearn_pca = PCA(n_components = len(df_pca.columns) )\n",
    "Y_sklearn = sklearn_pca.fit_transform(X_pca)\n",
    "\n",
    "print(\n",
    "    'The percentage of total variance in the dataset explained by each',\n",
    "    'component from Sklearn PCA.\\n',\n",
    "    sklearn_pca.explained_variance_ratio_\n",
    ")"
   ]
  },
  {
   "cell_type": "markdown",
   "metadata": {},
   "source": [
    "### The first 3 components explain 98%(=69+18+11) of the variation of the initial features!\n",
    "\n",
    "Below we'll see if both should be kept or not."
   ]
  },
  {
   "cell_type": "code",
   "execution_count": 384,
   "metadata": {
    "scrolled": true
   },
   "outputs": [
    {
     "data": {
      "text/plain": [
       "array([4.16202015e+00, 1.06617338e+00, 6.71511334e-01, 1.18099292e-01,\n",
       "       5.59109329e-32, 9.95026159e-34])"
      ]
     },
     "execution_count": 384,
     "metadata": {},
     "output_type": "execute_result"
    }
   ],
   "source": [
    "# What are the numbers of the eigenvalues?\n",
    "pca = PCA()\n",
    "eigenvalues = sklearn_pca.explained_variance_\n",
    "eigenvalues"
   ]
  },
  {
   "cell_type": "markdown",
   "metadata": {},
   "source": [
    "Upon visual inspection, the analyst will keep all the components whose eigenvalue falls above the point where the slope of the line changes the most drastically, also called the \"elbow\":"
   ]
  },
  {
   "cell_type": "code",
   "execution_count": 385,
   "metadata": {
    "scrolled": false
   },
   "outputs": [
    {
     "data": {
      "image/png": "[encoded data removed]",
      "text/plain": [
       "<matplotlib.figure.Figure at 0x23deab21c88>"
      ]
     },
     "metadata": {},
     "output_type": "display_data"
    }
   ],
   "source": [
    "plt.plot(eigenvalues)\n",
    "plt.show()"
   ]
  },
  {
   "cell_type": "markdown",
   "metadata": {},
   "source": [
    "* We should keep the first 2 components because they are greater than 1 and both are where the elbow has the slope with the biggest dramatic change. "
   ]
  },
  {
   "cell_type": "code",
   "execution_count": null,
   "metadata": {},
   "outputs": [],
   "source": []
  },
  {
   "cell_type": "code",
   "execution_count": 413,
   "metadata": {
    "scrolled": true
   },
   "outputs": [
    {
     "data": {
      "text/html": [
       "<div>\n",
       "<style scoped>\n",
       "    .dataframe tbody tr th:only-of-type {\n",
       "        vertical-align: middle;\n",
       "    }\n",
       "\n",
       "    .dataframe tbody tr th {\n",
       "        vertical-align: top;\n",
       "    }\n",
       "\n",
       "    .dataframe thead th {\n",
       "        text-align: right;\n",
       "    }\n",
       "</style>\n",
       "<table border=\"1\" class=\"dataframe\">\n",
       "  <thead>\n",
       "    <tr style=\"text-align: right;\">\n",
       "      <th></th>\n",
       "      <th>principal component 1</th>\n",
       "      <th>principal component 2</th>\n",
       "    </tr>\n",
       "  </thead>\n",
       "  <tbody>\n",
       "    <tr>\n",
       "      <th>0</th>\n",
       "      <td>9.936</td>\n",
       "      <td>2.260</td>\n",
       "    </tr>\n",
       "    <tr>\n",
       "      <th>1</th>\n",
       "      <td>7.252</td>\n",
       "      <td>0.470</td>\n",
       "    </tr>\n",
       "    <tr>\n",
       "      <th>2</th>\n",
       "      <td>8.008</td>\n",
       "      <td>0.980</td>\n",
       "    </tr>\n",
       "    <tr>\n",
       "      <th>3</th>\n",
       "      <td>4.526</td>\n",
       "      <td>3.659</td>\n",
       "    </tr>\n",
       "    <tr>\n",
       "      <th>4</th>\n",
       "      <td>5.329</td>\n",
       "      <td>-0.811</td>\n",
       "    </tr>\n",
       "    <tr>\n",
       "      <th>5</th>\n",
       "      <td>3.706</td>\n",
       "      <td>3.113</td>\n",
       "    </tr>\n",
       "    <tr>\n",
       "      <th>6</th>\n",
       "      <td>3.474</td>\n",
       "      <td>2.958</td>\n",
       "    </tr>\n",
       "    <tr>\n",
       "      <th>7</th>\n",
       "      <td>4.432</td>\n",
       "      <td>3.600</td>\n",
       "    </tr>\n",
       "    <tr>\n",
       "      <th>8</th>\n",
       "      <td>3.973</td>\n",
       "      <td>3.292</td>\n",
       "    </tr>\n",
       "    <tr>\n",
       "      <th>9</th>\n",
       "      <td>5.358</td>\n",
       "      <td>-0.788</td>\n",
       "    </tr>\n",
       "    <tr>\n",
       "      <th>10</th>\n",
       "      <td>6.112</td>\n",
       "      <td>-0.283</td>\n",
       "    </tr>\n",
       "    <tr>\n",
       "      <th>11</th>\n",
       "      <td>6.122</td>\n",
       "      <td>-0.275</td>\n",
       "    </tr>\n",
       "    <tr>\n",
       "      <th>12</th>\n",
       "      <td>5.061</td>\n",
       "      <td>-0.984</td>\n",
       "    </tr>\n",
       "    <tr>\n",
       "      <th>13</th>\n",
       "      <td>5.272</td>\n",
       "      <td>-0.843</td>\n",
       "    </tr>\n",
       "    <tr>\n",
       "      <th>14</th>\n",
       "      <td>4.777</td>\n",
       "      <td>-1.174</td>\n",
       "    </tr>\n",
       "    <tr>\n",
       "      <th>15</th>\n",
       "      <td>5.065</td>\n",
       "      <td>-0.980</td>\n",
       "    </tr>\n",
       "    <tr>\n",
       "      <th>16</th>\n",
       "      <td>2.490</td>\n",
       "      <td>2.306</td>\n",
       "    </tr>\n",
       "    <tr>\n",
       "      <th>17</th>\n",
       "      <td>5.256</td>\n",
       "      <td>-0.852</td>\n",
       "    </tr>\n",
       "    <tr>\n",
       "      <th>18</th>\n",
       "      <td>5.816</td>\n",
       "      <td>-0.478</td>\n",
       "    </tr>\n",
       "    <tr>\n",
       "      <th>19</th>\n",
       "      <td>5.584</td>\n",
       "      <td>-0.632</td>\n",
       "    </tr>\n",
       "    <tr>\n",
       "      <th>20</th>\n",
       "      <td>4.903</td>\n",
       "      <td>-1.088</td>\n",
       "    </tr>\n",
       "    <tr>\n",
       "      <th>21</th>\n",
       "      <td>4.621</td>\n",
       "      <td>-1.276</td>\n",
       "    </tr>\n",
       "    <tr>\n",
       "      <th>22</th>\n",
       "      <td>4.436</td>\n",
       "      <td>-1.400</td>\n",
       "    </tr>\n",
       "    <tr>\n",
       "      <th>23</th>\n",
       "      <td>5.035</td>\n",
       "      <td>-0.999</td>\n",
       "    </tr>\n",
       "    <tr>\n",
       "      <th>24</th>\n",
       "      <td>-0.039</td>\n",
       "      <td>0.641</td>\n",
       "    </tr>\n",
       "    <tr>\n",
       "      <th>25</th>\n",
       "      <td>2.282</td>\n",
       "      <td>2.168</td>\n",
       "    </tr>\n",
       "    <tr>\n",
       "      <th>26</th>\n",
       "      <td>1.772</td>\n",
       "      <td>1.828</td>\n",
       "    </tr>\n",
       "    <tr>\n",
       "      <th>27</th>\n",
       "      <td>1.751</td>\n",
       "      <td>1.814</td>\n",
       "    </tr>\n",
       "    <tr>\n",
       "      <th>28</th>\n",
       "      <td>4.368</td>\n",
       "      <td>-1.444</td>\n",
       "    </tr>\n",
       "    <tr>\n",
       "      <th>29</th>\n",
       "      <td>-0.259</td>\n",
       "      <td>0.495</td>\n",
       "    </tr>\n",
       "    <tr>\n",
       "      <th>...</th>\n",
       "      <td>...</td>\n",
       "      <td>...</td>\n",
       "    </tr>\n",
       "    <tr>\n",
       "      <th>308</th>\n",
       "      <td>-1.261</td>\n",
       "      <td>-0.168</td>\n",
       "    </tr>\n",
       "    <tr>\n",
       "      <th>309</th>\n",
       "      <td>-1.262</td>\n",
       "      <td>-0.169</td>\n",
       "    </tr>\n",
       "    <tr>\n",
       "      <th>310</th>\n",
       "      <td>-1.266</td>\n",
       "      <td>-0.172</td>\n",
       "    </tr>\n",
       "    <tr>\n",
       "      <th>311</th>\n",
       "      <td>-1.248</td>\n",
       "      <td>-0.160</td>\n",
       "    </tr>\n",
       "    <tr>\n",
       "      <th>312</th>\n",
       "      <td>-1.239</td>\n",
       "      <td>-0.154</td>\n",
       "    </tr>\n",
       "    <tr>\n",
       "      <th>313</th>\n",
       "      <td>-1.244</td>\n",
       "      <td>-0.157</td>\n",
       "    </tr>\n",
       "    <tr>\n",
       "      <th>314</th>\n",
       "      <td>-1.238</td>\n",
       "      <td>-0.153</td>\n",
       "    </tr>\n",
       "    <tr>\n",
       "      <th>315</th>\n",
       "      <td>-1.267</td>\n",
       "      <td>-0.172</td>\n",
       "    </tr>\n",
       "    <tr>\n",
       "      <th>316</th>\n",
       "      <td>-1.247</td>\n",
       "      <td>-0.159</td>\n",
       "    </tr>\n",
       "    <tr>\n",
       "      <th>317</th>\n",
       "      <td>-1.275</td>\n",
       "      <td>-0.178</td>\n",
       "    </tr>\n",
       "    <tr>\n",
       "      <th>318</th>\n",
       "      <td>-1.268</td>\n",
       "      <td>-0.173</td>\n",
       "    </tr>\n",
       "    <tr>\n",
       "      <th>319</th>\n",
       "      <td>-1.269</td>\n",
       "      <td>-0.173</td>\n",
       "    </tr>\n",
       "    <tr>\n",
       "      <th>320</th>\n",
       "      <td>-1.268</td>\n",
       "      <td>-0.173</td>\n",
       "    </tr>\n",
       "    <tr>\n",
       "      <th>321</th>\n",
       "      <td>-1.272</td>\n",
       "      <td>-0.176</td>\n",
       "    </tr>\n",
       "    <tr>\n",
       "      <th>322</th>\n",
       "      <td>-1.273</td>\n",
       "      <td>-0.176</td>\n",
       "    </tr>\n",
       "    <tr>\n",
       "      <th>323</th>\n",
       "      <td>-1.278</td>\n",
       "      <td>-0.180</td>\n",
       "    </tr>\n",
       "    <tr>\n",
       "      <th>324</th>\n",
       "      <td>-1.269</td>\n",
       "      <td>-0.173</td>\n",
       "    </tr>\n",
       "    <tr>\n",
       "      <th>325</th>\n",
       "      <td>-1.275</td>\n",
       "      <td>-0.178</td>\n",
       "    </tr>\n",
       "    <tr>\n",
       "      <th>326</th>\n",
       "      <td>-1.280</td>\n",
       "      <td>-0.181</td>\n",
       "    </tr>\n",
       "    <tr>\n",
       "      <th>327</th>\n",
       "      <td>-1.232</td>\n",
       "      <td>-0.149</td>\n",
       "    </tr>\n",
       "    <tr>\n",
       "      <th>328</th>\n",
       "      <td>-1.285</td>\n",
       "      <td>-0.184</td>\n",
       "    </tr>\n",
       "    <tr>\n",
       "      <th>329</th>\n",
       "      <td>-1.285</td>\n",
       "      <td>-0.185</td>\n",
       "    </tr>\n",
       "    <tr>\n",
       "      <th>330</th>\n",
       "      <td>-1.281</td>\n",
       "      <td>-0.182</td>\n",
       "    </tr>\n",
       "    <tr>\n",
       "      <th>331</th>\n",
       "      <td>-1.284</td>\n",
       "      <td>-0.184</td>\n",
       "    </tr>\n",
       "    <tr>\n",
       "      <th>332</th>\n",
       "      <td>-1.264</td>\n",
       "      <td>-0.170</td>\n",
       "    </tr>\n",
       "    <tr>\n",
       "      <th>333</th>\n",
       "      <td>-1.283</td>\n",
       "      <td>-0.183</td>\n",
       "    </tr>\n",
       "    <tr>\n",
       "      <th>334</th>\n",
       "      <td>-1.291</td>\n",
       "      <td>-0.188</td>\n",
       "    </tr>\n",
       "    <tr>\n",
       "      <th>335</th>\n",
       "      <td>-1.293</td>\n",
       "      <td>-0.190</td>\n",
       "    </tr>\n",
       "    <tr>\n",
       "      <th>336</th>\n",
       "      <td>-1.287</td>\n",
       "      <td>-0.186</td>\n",
       "    </tr>\n",
       "    <tr>\n",
       "      <th>337</th>\n",
       "      <td>-1.293</td>\n",
       "      <td>-0.190</td>\n",
       "    </tr>\n",
       "  </tbody>\n",
       "</table>\n",
       "<p>338 rows × 2 columns</p>\n",
       "</div>"
      ],
      "text/plain": [
       "     principal component 1  principal component 2\n",
       "0                    9.936                  2.260\n",
       "1                    7.252                  0.470\n",
       "2                    8.008                  0.980\n",
       "3                    4.526                  3.659\n",
       "4                    5.329                 -0.811\n",
       "5                    3.706                  3.113\n",
       "6                    3.474                  2.958\n",
       "7                    4.432                  3.600\n",
       "8                    3.973                  3.292\n",
       "9                    5.358                 -0.788\n",
       "10                   6.112                 -0.283\n",
       "11                   6.122                 -0.275\n",
       "12                   5.061                 -0.984\n",
       "13                   5.272                 -0.843\n",
       "14                   4.777                 -1.174\n",
       "15                   5.065                 -0.980\n",
       "16                   2.490                  2.306\n",
       "17                   5.256                 -0.852\n",
       "18                   5.816                 -0.478\n",
       "19                   5.584                 -0.632\n",
       "20                   4.903                 -1.088\n",
       "21                   4.621                 -1.276\n",
       "22                   4.436                 -1.400\n",
       "23                   5.035                 -0.999\n",
       "24                  -0.039                  0.641\n",
       "25                   2.282                  2.168\n",
       "26                   1.772                  1.828\n",
       "27                   1.751                  1.814\n",
       "28                   4.368                 -1.444\n",
       "29                  -0.259                  0.495\n",
       "..                     ...                    ...\n",
       "308                 -1.261                 -0.168\n",
       "309                 -1.262                 -0.169\n",
       "310                 -1.266                 -0.172\n",
       "311                 -1.248                 -0.160\n",
       "312                 -1.239                 -0.154\n",
       "313                 -1.244                 -0.157\n",
       "314                 -1.238                 -0.153\n",
       "315                 -1.267                 -0.172\n",
       "316                 -1.247                 -0.159\n",
       "317                 -1.275                 -0.178\n",
       "318                 -1.268                 -0.173\n",
       "319                 -1.269                 -0.173\n",
       "320                 -1.268                 -0.173\n",
       "321                 -1.272                 -0.176\n",
       "322                 -1.273                 -0.176\n",
       "323                 -1.278                 -0.180\n",
       "324                 -1.269                 -0.173\n",
       "325                 -1.275                 -0.178\n",
       "326                 -1.280                 -0.181\n",
       "327                 -1.232                 -0.149\n",
       "328                 -1.285                 -0.184\n",
       "329                 -1.285                 -0.185\n",
       "330                 -1.281                 -0.182\n",
       "331                 -1.284                 -0.184\n",
       "332                 -1.264                 -0.170\n",
       "333                 -1.283                 -0.183\n",
       "334                 -1.291                 -0.188\n",
       "335                 -1.293                 -0.190\n",
       "336                 -1.287                 -0.186\n",
       "337                 -1.293                 -0.190\n",
       "\n",
       "[338 rows x 2 columns]"
      ]
     },
     "execution_count": 413,
     "metadata": {},
     "output_type": "execute_result"
    }
   ],
   "source": [
    "principalDf = pd.DataFrame(data = Y_sklearn[:,0:2]\n",
    "             , columns = ['principal component 1', 'principal component 2'])\n",
    "principalDf#.head()"
   ]
  },
  {
   "cell_type": "markdown",
   "metadata": {},
   "source": [
    "> Initially I used 'prop_crime2' to dropped the column ('Property\\ncrime') but I discovered that the concatenation is performed using the index. 'prop_crime2' had 9 rows that have been deleted and pandas.concat was filling them with N/A which returned a dataframe with 347 rows instead of 338 rows. Thus I had to reset_index and use 'prop_crime3':"
   ]
  },
  {
   "cell_type": "code",
   "execution_count": 408,
   "metadata": {},
   "outputs": [],
   "source": [
    "prop_crime3=prop_crime2['Property\\ncrime'].reset_index(drop=True)"
   ]
  },
  {
   "cell_type": "code",
   "execution_count": 414,
   "metadata": {},
   "outputs": [],
   "source": [
    "principalDf = pd.concat((principalDf , prop_crime3),axis=1)"
   ]
  },
  {
   "cell_type": "code",
   "execution_count": 416,
   "metadata": {
    "scrolled": true
   },
   "outputs": [
    {
     "data": {
      "text/plain": [
       "Index(['principal component 1', 'principal component 2'], dtype='object')"
      ]
     },
     "execution_count": 416,
     "metadata": {},
     "output_type": "execute_result"
    }
   ],
   "source": [
    "X_pca_col = principalDf.columns.drop(['Property\\ncrime' ])\n",
    "X_pca_col"
   ]
  },
  {
   "cell_type": "code",
   "execution_count": 417,
   "metadata": {},
   "outputs": [],
   "source": [
    "principalDf = principalDf.fillna(0)\n",
    "\n",
    "Y_pca2 = principalDf['Property\\ncrime'].values.reshape(-1, 1)\n",
    "X_pca2 = principalDf[X_pca_col]"
   ]
  },
  {
   "cell_type": "code",
   "execution_count": 420,
   "metadata": {},
   "outputs": [
    {
     "name": "stdout",
     "output_type": "stream",
     "text": [
      "\n",
      "Coefficients: \n",
      " [[240.67129252 149.40959458]]\n",
      "\n",
      "Intercept: \n",
      " [322.32544379]\n",
      "\n",
      "R-squared:\n",
      "0.7195379933647078\n"
     ]
    }
   ],
   "source": [
    "# Instantiate and fit our model using the initial Y.\n",
    "regr2 = linear_model.LinearRegression()\n",
    "\n",
    "regr2.fit(X_pca2, Y)\n",
    "\n",
    "# Inspect the results.\n",
    "print('\\nCoefficients: \\n', regr2.coef_)\n",
    "print('\\nIntercept: \\n', regr2.intercept_)\n",
    "print('\\nR-squared:')\n",
    "print(regr2.score(X_pca2, Y))"
   ]
  },
  {
   "cell_type": "code",
   "execution_count": null,
   "metadata": {},
   "outputs": [],
   "source": []
  },
  {
   "cell_type": "code",
   "execution_count": null,
   "metadata": {},
   "outputs": [],
   "source": []
  }
 ],
 "metadata": {
  "anaconda-cloud": {},
  "kernelspec": {
   "display_name": "Python [conda root]",
   "language": "python",
   "name": "conda-root-py"
  },
  "language_info": {
   "codemirror_mode": {
    "name": "ipython",
    "version": 3
   },
   "file_extension": ".py",
   "mimetype": "text/x-python",
   "name": "python",
   "nbconvert_exporter": "python",
   "pygments_lexer": "ipython3",
   "version": "3.5.4"
  },
  "latex_envs": {
   "LaTeX_envs_menu_present": true,
   "autocomplete": true,
   "bibliofile": "biblio.bib",
   "cite_by": "apalike",
   "current_citInitial": 1,
   "eqLabelWithNumbers": true,
   "eqNumInitial": 1,
   "hotkeys": {
    "equation": "Ctrl-E",
    "itemize": "Ctrl-I"
   },
   "labels_anchors": false,
   "latex_user_defs": false,
   "report_style_numbering": false,
   "user_envs_cfg": false
  }
 },
 "nbformat": 4,
 "nbformat_minor": 2
}
